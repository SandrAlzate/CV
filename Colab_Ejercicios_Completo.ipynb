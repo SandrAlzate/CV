{
  "cells": [
    {
      "cell_type": "markdown",
      "metadata": {
        "id": "view-in-github",
        "colab_type": "text"
      },
      "source": [
        "<a href=\"https://colab.research.google.com/github/SandrAlzate/CV/blob/master/Colab_Ejercicios_Completo.ipynb\" target=\"_parent\"><img src=\"https://colab.research.google.com/assets/colab-badge.svg\" alt=\"Open In Colab\"/></a>"
      ]
    },
    {
      "cell_type": "markdown",
      "id": "4ad14f6b",
      "metadata": {
        "id": "4ad14f6b"
      },
      "source": [
        "\n",
        "# 📘 Colab – Ejercicios (Total de temas)\n",
        "\n",
        "**Instrucciones:** completa las celdas marcadas como 'Tu solución aquí'.\n",
        "\n",
        "**Temas:** Variables y tipos, Operadores y Matemáticas, Cadenas, Listas/Tuplas/Diccionarios, Condicionales, Bucles y Funciones."
      ]
    },
    {
      "cell_type": "markdown",
      "id": "3474425f",
      "metadata": {
        "id": "3474425f"
      },
      "source": [
        "## 1) Variables y tipos"
      ]
    },
    {
      "cell_type": "code",
      "execution_count": null,
      "id": "a286a2b7",
      "metadata": {
        "colab": {
          "base_uri": "https://localhost:8080/"
        },
        "id": "a286a2b7",
        "outputId": "6f4b9848-1087-40d0-be8f-81be26588acb"
      },
      "outputs": [
        {
          "output_type": "execute_result",
          "data": {
            "text/plain": [
              "(str, int, float, bool)"
            ]
          },
          "metadata": {},
          "execution_count": 2
        }
      ],
      "source": [
        "# 1.1 Declara variables y muestra tipos\n",
        "# Crea variables: nombre (str), edad (int), altura (float), activo (bool)\n",
        "# Imprime sus tipos con type(...)\n",
        "# Tu solución aquí\n",
        "nombre = \"Fidias\"\n",
        "edad = 47\n",
        "altura = 1.80\n",
        "activo = True\n",
        "\n",
        "type(nombre), type(edad), type(altura), type(activo)"
      ]
    },
    {
      "cell_type": "code",
      "execution_count": null,
      "id": "fa2a471c",
      "metadata": {
        "colab": {
          "base_uri": "https://localhost:8080/"
        },
        "id": "fa2a471c",
        "outputId": "77b3bb7c-2714-4578-fa00-51a0b1d262a6"
      },
      "outputs": [
        {
          "output_type": "execute_result",
          "data": {
            "text/plain": [
              "(int, float)"
            ]
          },
          "metadata": {},
          "execution_count": 4
        }
      ],
      "source": [
        "# 1.2 Casting\n",
        "# Convierte x=\"42\" a int y float, e imprime sus tipos\n",
        "x = \"42\"\n",
        "# Tu solución aquí\n",
        "\n",
        "x_int = int(x)\n",
        "x_float = float(x)\n",
        "\n",
        "type(x_int), type(x_float)"
      ]
    },
    {
      "cell_type": "markdown",
      "id": "c04168d9",
      "metadata": {
        "id": "c04168d9"
      },
      "source": [
        "## 2) Operadores y matemáticas"
      ]
    },
    {
      "cell_type": "code",
      "execution_count": null,
      "id": "7f929327",
      "metadata": {
        "colab": {
          "base_uri": "https://localhost:8080/"
        },
        "id": "7f929327",
        "outputId": "02b4279b-d66b-48af-b105-005146de37be"
      },
      "outputs": [
        {
          "output_type": "stream",
          "name": "stdout",
          "text": [
            "Suma: 10\n",
            "Resta: 4\n",
            "Multiplicación: 21\n",
            "División: 2.3333333333333335\n",
            "División entera: 2\n",
            "Módulo: 1\n",
            "Potencia: 343\n",
            "a > b: True\n",
            "a == b: False\n"
          ]
        }
      ],
      "source": [
        "# 2.1 Operadores aritméticos y de comparación\n",
        "# Con a=7, b=3, calcula: suma, resta, mult, div, //, %, ** y comparaciones a>b, a==b\n",
        "# Tu solución aquí\n",
        "\n",
        "a = 7\n",
        "b = 3\n",
        "\n",
        "# Operadores aritméticos\n",
        "suma = a + b\n",
        "resta = a - b\n",
        "multiplicacion = a * b\n",
        "division = a / b       # división normal\n",
        "division_entera = a // b  # división entera\n",
        "modulo = a % b         # residuo\n",
        "potencia = a ** b      # a elevado a b\n",
        "\n",
        "# Mostrar resultados\n",
        "print(\"Suma:\", suma)\n",
        "print(\"Resta:\", resta)\n",
        "print(\"Multiplicación:\", multiplicacion)\n",
        "print(\"División:\", division)\n",
        "print(\"División entera:\", division_entera)\n",
        "print(\"Módulo:\", modulo)\n",
        "print(\"Potencia:\", potencia)\n",
        "\n",
        "# Comparaciones\n",
        "print(\"a > b:\", a > b)\n",
        "print(\"a == b:\", a == b)\n"
      ]
    },
    {
      "cell_type": "code",
      "execution_count": null,
      "id": "9e757471",
      "metadata": {
        "colab": {
          "base_uri": "https://localhost:8080/"
        },
        "id": "9e757471",
        "outputId": "6c4d0325-b828-4d78-de0c-e90b520ecf5a"
      },
      "outputs": [
        {
          "output_type": "stream",
          "name": "stdout",
          "text": [
            "El area del circilo 78.54\n",
            "El número redondeado arriba 79\n",
            "El número redondeado abajo 78\n"
          ]
        }
      ],
      "source": [
        "# 2.2 Área de un círculo con math.pi\n",
        "# Pide o define un radio r y calcula el área\n",
        "# Tu solución aquí\n",
        "import math\n",
        "\n",
        "r = 5.0\n",
        "#area  = math.pi * r ** 2\n",
        "area = 3.1416 * r ** 2\n",
        "\n",
        "round(area, 2)\n",
        "print(f\"El area del circilo {area:.2f}\")\n",
        "print(f\"El número redondeado arriba {math.ceil(area)}\")\n",
        "print(f\"El número redondeado abajo {math.floor(area)}\")"
      ]
    },
    {
      "cell_type": "markdown",
      "id": "8eaf6a55",
      "metadata": {
        "id": "8eaf6a55"
      },
      "source": [
        "## 3) Cadenas (strings)"
      ]
    },
    {
      "cell_type": "code",
      "execution_count": null,
      "id": "e99396ee",
      "metadata": {
        "colab": {
          "base_uri": "https://localhost:8080/"
        },
        "id": "e99396ee",
        "outputId": "1e0fc41c-2d96-49cc-ce24-f7171ef07a0c"
      },
      "outputs": [
        {
          "output_type": "execute_result",
          "data": {
            "text/plain": [
              "['Inteligencia', 'Artificial']"
            ]
          },
          "metadata": {},
          "execution_count": 24
        }
      ],
      "source": [
        "# 3.1 Limpieza y métodos\n",
        "# Dado texto, aplica strip, upper, find, replace, split\n",
        "texto = \"  Inteligencia Artificial  \"\n",
        "# Tu solución aquí\n",
        "len(texto)\n",
        "texto_lim = texto.strip()\n",
        "len(texto_lim)\n",
        "texto_lim.upper()\n",
        "texto_lim.find('ifi')\n",
        "texto_lim.replace(\"Artificial\", \"Aplicada\")\n",
        "texto.split()"
      ]
    },
    {
      "cell_type": "code",
      "execution_count": null,
      "id": "e5b069d0",
      "metadata": {
        "colab": {
          "base_uri": "https://localhost:8080/"
        },
        "id": "e5b069d0",
        "outputId": "aacf77a1-72eb-43d2-d637-b5097567d412"
      },
      "outputs": [
        {
          "output_type": "stream",
          "name": "stdout",
          "text": [
            "Ingrese su frase: fidias\n",
            "Ingrese el caracter a buscar: a\n",
            "En la Frase fidias hay 1 caracteres\n"
          ]
        }
      ],
      "source": [
        "# 3.2 Contar carácter en frase\n",
        "# Pide una frase y un carácter, y cuenta cuántas veces aparece\n",
        "# Tu solución aquí\n",
        "frase = input(\"Ingrese su frase: \")\n",
        "caracter = input(\"Ingrese el caracter a buscar: \")\n",
        "print(f\"En la Frase {frase} hay {frase.lower().count(caracter)} caracteres\")"
      ]
    },
    {
      "cell_type": "markdown",
      "id": "f5b53712",
      "metadata": {
        "id": "f5b53712"
      },
      "source": [
        "## 4) Estructuras: listas, tuplas, diccionarios"
      ]
    },
    {
      "cell_type": "code",
      "execution_count": null,
      "id": "a558069a",
      "metadata": {
        "colab": {
          "base_uri": "https://localhost:8080/"
        },
        "id": "a558069a",
        "outputId": "164284de-c0e5-4f3e-d6d3-e584f191b67f"
      },
      "outputs": [
        {
          "output_type": "execute_result",
          "data": {
            "text/plain": [
              "['Manzana', 'Mandarina', 'Naranja', 'Mandarina']"
            ]
          },
          "metadata": {},
          "execution_count": 28
        }
      ],
      "source": [
        "# 4.1 Lista: agrega elemento y modifica otro\n",
        "# Crea lista de 3 frutas, agrega una más y cambia la segunda\n",
        "# Tu solución aquí\n",
        "frutas = [\"Manzana\", \"Pera\", \"Naranja\"]\n",
        "frutas.append(\"Mandarina\")\n",
        "frutas[1] = \"Mandarina\"\n",
        "frutas\n"
      ]
    },
    {
      "cell_type": "code",
      "execution_count": null,
      "id": "5ac9f00a",
      "metadata": {
        "colab": {
          "base_uri": "https://localhost:8080/"
        },
        "id": "5ac9f00a",
        "outputId": "f3520651-d6cf-4c04-935e-a9ad36197e84"
      },
      "outputs": [
        {
          "output_type": "stream",
          "name": "stdout",
          "text": [
            "Amarillo\n",
            "Roja\n"
          ]
        }
      ],
      "source": [
        "# 4.2 Tupla: acceso por índice\n",
        "# Crea una tupla con 3 colores e imprime el primero y el último\n",
        "# Tu solución aquí\n",
        "colores = (\"Amarillo\", \"Azul\", \"Roja\")\n",
        "\n",
        "print(colores[0]);\n",
        "print(colores[-1])"
      ]
    },
    {
      "cell_type": "code",
      "execution_count": null,
      "id": "0073eeac",
      "metadata": {
        "colab": {
          "base_uri": "https://localhost:8080/"
        },
        "id": "0073eeac",
        "outputId": "92d567e4-6cc6-44ee-9f65-6f8fba290785"
      },
      "outputs": [
        {
          "output_type": "execute_result",
          "data": {
            "text/plain": [
              "[('estudiante1', 4.5),\n",
              " ('estudiante2', 4.7),\n",
              " ('estudiante3', 5.0),\n",
              " ('estudiante4', 4.3)]"
            ]
          },
          "metadata": {},
          "execution_count": 35
        }
      ],
      "source": [
        "# 4.3 Diccionario: agregar, modificar y recorrer\n",
        "# Crea diccionario 3 estudiantes→nota, agrega uno, modifica otro y recórrelo\n",
        "# Tu solución aquí\n",
        "estudiantes = {\n",
        " \"estudiante1\": 4.5,\n",
        " \"estudiante2\": 4.2,\n",
        " \"estudiante3\": 5.0\n",
        "}\n",
        "estudiantes['estudiante4'] = 4.3\n",
        "estudiantes['estudiante2'] = 4.7\n",
        "\n",
        "[(k,v) for k,v in estudiantes.items()]\n"
      ]
    },
    {
      "cell_type": "markdown",
      "id": "88a9629b",
      "metadata": {
        "id": "88a9629b"
      },
      "source": [
        "## 5) Condicionales"
      ]
    },
    {
      "cell_type": "code",
      "execution_count": null,
      "id": "1e2e6d01",
      "metadata": {
        "colab": {
          "base_uri": "https://localhost:8080/"
        },
        "id": "1e2e6d01",
        "outputId": "3be30e92-ca43-41bc-c541-9cd638a52f80"
      },
      "outputs": [
        {
          "output_type": "stream",
          "name": "stdout",
          "text": [
            "Ingrese la nota: 2\n",
            "Lo importante es que hay salud\n"
          ]
        }
      ],
      "source": [
        "# 5.1 Clasificar nota\n",
        "# Con una variable 'nota', imprime: Excelente (>=4.5), Aprobado (>=3.0), No aprobado\n",
        "# Tu solución aquí\n",
        "\n",
        "nota = float(input(\"Ingrese la nota: \"))\n",
        "\n",
        "if nota>=4.5 :\n",
        "  print(\"Excelente\")\n",
        "elif nota>=3.0 :\n",
        "  print(\"Aprobado\")\n",
        "else:\n",
        "  print(\"Lo importante es que hay salud\")\n"
      ]
    },
    {
      "cell_type": "code",
      "source": [
        "while True:\n",
        "  nota = float(input(\"ingrese la nota: \"))\n",
        "  if nota >= 4.5:\n",
        "    print(\"Excelente\")\n",
        "  elif nota >= 3.0:\n",
        "    print(\"Aprobado\")\n",
        "  else:\n",
        "    print(\"No aprobado\")\n",
        "  op = input(\"¿Desea continuar? (s/n): \")\n",
        "  if op.lower() == 'n':\n",
        "    break"
      ],
      "metadata": {
        "colab": {
          "base_uri": "https://localhost:8080/"
        },
        "id": "UcqvKsdKhR0j",
        "outputId": "d8b4420c-b796-40c7-a140-1c8fff061d41"
      },
      "id": "UcqvKsdKhR0j",
      "execution_count": null,
      "outputs": [
        {
          "name": "stdout",
          "output_type": "stream",
          "text": [
            "ingrese la nota: 4.3\n",
            "Aprobado\n",
            "¿Desea continuar? (s/n): s\n",
            "ingrese la nota: 3\n",
            "Aprobado\n",
            "¿Desea continuar? (s/n): s\n",
            "ingrese la nota: 2\n",
            "No aprobado\n",
            "¿Desea continuar? (s/n): n\n"
          ]
        }
      ]
    },
    {
      "cell_type": "code",
      "source": [
        "contador = 0\n",
        "notas = []\n",
        "while True:\n",
        "  nota = float(input(\"ingrese la nota: \"))\n",
        "  notas.append(nota)\n",
        "  if nota >= 4.5:\n",
        "    print(\"Excelente\")\n",
        "  elif nota >= 3.0:\n",
        "    print(\"Aprobado\")\n",
        "  else:\n",
        "    print(\"No aprobado\")\n",
        "  op = input(\"¿Desea continuar? (s/n): \")\n",
        "  contador += 1\n",
        "  if op.lower() == 'n':\n",
        "    break\n",
        "print(notas)"
      ],
      "metadata": {
        "colab": {
          "base_uri": "https://localhost:8080/"
        },
        "id": "RTk5vJ1pjGa1",
        "outputId": "f09f187e-f6b7-4a4c-9d09-43136dba7fa6"
      },
      "id": "RTk5vJ1pjGa1",
      "execution_count": null,
      "outputs": [
        {
          "output_type": "stream",
          "name": "stdout",
          "text": [
            "ingrese la nota: 2\n",
            "No aprobado\n",
            "¿Desea continuar? (s/n): 4.5\n",
            "ingrese la nota: 33\n",
            "Excelente\n",
            "¿Desea continuar? (s/n): n\n",
            "[2.0, 33.0]\n"
          ]
        }
      ]
    },
    {
      "cell_type": "markdown",
      "id": "aee1a691",
      "metadata": {
        "id": "aee1a691"
      },
      "source": [
        "## 6) Bucles: for, while, break, continue"
      ]
    },
    {
      "cell_type": "code",
      "execution_count": null,
      "id": "5c1d475a",
      "metadata": {
        "id": "5c1d475a"
      },
      "outputs": [],
      "source": [
        "# 6.1 Múltiplos de 3 entre 1 y 30, omitiendo múltiplos de 5\n",
        "# Tu solución aquí\n",
        "\n",
        "i = 0\n",
        "while i < 30:\n",
        "  if i % 5 == 0:\n",
        "   pass\n",
        "  else:\n",
        "    print(i)\n",
        "  i+=3"
      ]
    },
    {
      "cell_type": "code",
      "source": [
        "for i in range(1,31):\n",
        "  if i % 3 == 0 and i % 5 != 0:\n",
        "    print(i)"
      ],
      "metadata": {
        "colab": {
          "base_uri": "https://localhost:8080/"
        },
        "id": "stZ0cDCZkV1X",
        "outputId": "96615f35-c67e-4125-d1d7-ef9704468656"
      },
      "id": "stZ0cDCZkV1X",
      "execution_count": null,
      "outputs": [
        {
          "output_type": "stream",
          "name": "stdout",
          "text": [
            "3\n",
            "6\n",
            "9\n",
            "12\n",
            "18\n",
            "21\n",
            "24\n",
            "27\n"
          ]
        }
      ]
    },
    {
      "cell_type": "code",
      "source": [
        "for i in range(1,31):\n",
        "  if i % 3 == 0:\n",
        "    if i%5 != 0:\n",
        "      print(i)"
      ],
      "metadata": {
        "colab": {
          "base_uri": "https://localhost:8080/"
        },
        "id": "uPE6YDpLlMqB",
        "outputId": "93e6ceae-c8db-4295-fcc8-57aa16733c6d"
      },
      "id": "uPE6YDpLlMqB",
      "execution_count": null,
      "outputs": [
        {
          "output_type": "stream",
          "name": "stdout",
          "text": [
            "3\n",
            "6\n",
            "9\n",
            "12\n",
            "18\n",
            "21\n",
            "24\n",
            "27\n"
          ]
        }
      ]
    },
    {
      "cell_type": "code",
      "source": [
        "for i in range(1,31):\n",
        "  if i % 3 == 0:\n",
        "    if i % 5 == 0:\n",
        "      continue\n",
        "  print(i)"
      ],
      "metadata": {
        "colab": {
          "base_uri": "https://localhost:8080/"
        },
        "id": "2si6M6uXluU0",
        "outputId": "9f9db68d-4dcd-423e-8aee-d58fb709e31d"
      },
      "id": "2si6M6uXluU0",
      "execution_count": null,
      "outputs": [
        {
          "output_type": "stream",
          "name": "stdout",
          "text": [
            "1\n",
            "2\n",
            "3\n",
            "4\n",
            "5\n",
            "6\n",
            "7\n",
            "8\n",
            "9\n",
            "10\n",
            "11\n",
            "12\n",
            "13\n",
            "14\n",
            "16\n",
            "17\n",
            "18\n",
            "19\n",
            "20\n",
            "21\n",
            "22\n",
            "23\n",
            "24\n",
            "25\n",
            "26\n",
            "27\n",
            "28\n",
            "29\n"
          ]
        }
      ]
    },
    {
      "cell_type": "code",
      "source": [
        "notas = []\n",
        "while True:\n",
        "  while True:\n",
        "    try:\n",
        "      nota = float(input(\"ingrese una nota entre 0 y 5: \"))\n",
        "    except ValueError:\n",
        "      print('La nota ingresada no es un caracter númerico. Inténtelo nuevamente.')\n",
        "    else:\n",
        "      notas.append(nota)\n",
        "\n",
        "      if nota >= 4.5:\n",
        "        print(\"Excelente\")\n",
        "      elif nota >= 3.0:\n",
        "        print(\"Aprobado\")\n",
        "      else:\n",
        "        print(\"No aprobado\")\n",
        "      break\n",
        "  otra_vez = input('¿Quiere ingresar más notas? Responda Sí o No: ')\n",
        "  if (otra_vez == 'No') | (otra_vez == 'no') | (otra_vez == 'NO'):\n",
        "    print('Notas ingresadas correctamente:')\n",
        "    print('Notas:', notas)\n",
        "    break"
      ],
      "metadata": {
        "colab": {
          "base_uri": "https://localhost:8080/"
        },
        "id": "fR-04E58mB2G",
        "outputId": "35f0d369-c584-4493-ae65-26f5ff75d183"
      },
      "id": "fR-04E58mB2G",
      "execution_count": null,
      "outputs": [
        {
          "output_type": "stream",
          "name": "stdout",
          "text": [
            "ingrese una nota entre 0 y 5: 5\n",
            "Excelente\n",
            "¿Quiere ingresar más notas? Responda Sí o No: 8\n",
            "ingrese una nota entre 0 y 5: 88\n",
            "Excelente\n",
            "¿Quiere ingresar más notas? Responda Sí o No: no\n",
            "Notas ingresadas correctamente:\n",
            "Notas: [5.0, 88.0]\n"
          ]
        }
      ]
    },
    {
      "cell_type": "code",
      "source": [
        "notas = []\n",
        "while True:\n",
        "  while True:\n",
        "    try:\n",
        "      nota = float(input(\"ingrese una nota entre 0 y 5: \"))\n",
        "    except ValueError:\n",
        "      print('La nota ingresada no es un caracter númerico. Inténtelo nuevamente.')\n",
        "    else:\n",
        "      notas.append(nota)\n",
        "\n",
        "      if nota > 5:\n",
        "        print(\"Nota no valida Inténtelo nuevamente.\")\n",
        "      elif nota < 0:\n",
        "        print(\"Nota no valida Inténtelo nuevamente\")\n",
        "      if nota >= 4.5:\n",
        "        print(\"Excelente\")\n",
        "      elif nota >= 3.0:\n",
        "        print(\"Aprobado\")\n",
        "      else:\n",
        "        print(\"No aprobado\")\n",
        "      break\n",
        "  otra_vez = input('¿Quiere ingresar más notas? Responda Sí o No: ')\n",
        "  if (otra_vez == 'No') | (otra_vez == 'no') | (otra_vez == 'NO'):\n",
        "    print('Notas ingresadas correctamente:')\n",
        "    print('Notas:', notas)\n",
        "    break"
      ],
      "metadata": {
        "id": "VNDua8bEpT_2"
      },
      "id": "VNDua8bEpT_2",
      "execution_count": null,
      "outputs": []
    },
    {
      "cell_type": "code",
      "source": [
        "nota = float(input(\"ingrese una nota entre 0 y 5: \"))\n",
        "\n",
        "if nota >= 0 and nota <= 5:\n",
        "      notas.append(nota)\n",
        "else:\n",
        "     print('La nota ingresada no es un caracter númerico. Inténtelo nuevamente.')\n",
        "\n",
        "     if nota >= 4.5:\n",
        "        print(\"Excelente\")\n",
        "     elif nota >= 3.0:\n",
        "        print(\"Aprobado\")\n",
        "     else:\n",
        "        print(\"No aprobado\")\n",
        "\n",
        "otra_vez = input('¿Quiere ingresar más notas? Responda Sí o No: ')\n",
        "if (otra_vez == 'No') | (otra_vez == 'no') | (otra_vez == 'NO'):\n",
        "    print('Notas ingresadas correctamente:')\n",
        "    print('Notas:', notas)\n"
      ],
      "metadata": {
        "colab": {
          "base_uri": "https://localhost:8080/",
          "height": 408
        },
        "id": "DzQ2FvtTpZ-n",
        "outputId": "a82b136f-d07a-488a-f39b-f0171d46bcee"
      },
      "id": "DzQ2FvtTpZ-n",
      "execution_count": null,
      "outputs": [
        {
          "output_type": "stream",
          "name": "stdout",
          "text": [
            "ingrese una nota entre 0 y 5: 7\n",
            "La nota ingresada no es un caracter númerico. Inténtelo nuevamente.\n",
            "Excelente\n"
          ]
        },
        {
          "output_type": "error",
          "ename": "KeyboardInterrupt",
          "evalue": "Interrupted by user",
          "traceback": [
            "\u001b[0;31m---------------------------------------------------------------------------\u001b[0m",
            "\u001b[0;31mKeyboardInterrupt\u001b[0m                         Traceback (most recent call last)",
            "\u001b[0;32m/tmp/ipython-input-1312412282.py\u001b[0m in \u001b[0;36m<cell line: 0>\u001b[0;34m()\u001b[0m\n\u001b[1;32m     13\u001b[0m         \u001b[0mprint\u001b[0m\u001b[0;34m(\u001b[0m\u001b[0;34m\"No aprobado\"\u001b[0m\u001b[0;34m)\u001b[0m\u001b[0;34m\u001b[0m\u001b[0;34m\u001b[0m\u001b[0m\n\u001b[1;32m     14\u001b[0m \u001b[0;34m\u001b[0m\u001b[0m\n\u001b[0;32m---> 15\u001b[0;31m \u001b[0motra_vez\u001b[0m \u001b[0;34m=\u001b[0m \u001b[0minput\u001b[0m\u001b[0;34m(\u001b[0m\u001b[0;34m'¿Quiere ingresar más notas? Responda Sí o No: '\u001b[0m\u001b[0;34m)\u001b[0m\u001b[0;34m\u001b[0m\u001b[0;34m\u001b[0m\u001b[0m\n\u001b[0m\u001b[1;32m     16\u001b[0m \u001b[0;32mif\u001b[0m \u001b[0;34m(\u001b[0m\u001b[0motra_vez\u001b[0m \u001b[0;34m==\u001b[0m \u001b[0;34m'No'\u001b[0m\u001b[0;34m)\u001b[0m \u001b[0;34m|\u001b[0m \u001b[0;34m(\u001b[0m\u001b[0motra_vez\u001b[0m \u001b[0;34m==\u001b[0m \u001b[0;34m'no'\u001b[0m\u001b[0;34m)\u001b[0m \u001b[0;34m|\u001b[0m \u001b[0;34m(\u001b[0m\u001b[0motra_vez\u001b[0m \u001b[0;34m==\u001b[0m \u001b[0;34m'NO'\u001b[0m\u001b[0;34m)\u001b[0m\u001b[0;34m:\u001b[0m\u001b[0;34m\u001b[0m\u001b[0;34m\u001b[0m\u001b[0m\n\u001b[1;32m     17\u001b[0m     \u001b[0mprint\u001b[0m\u001b[0;34m(\u001b[0m\u001b[0;34m'Notas ingresadas correctamente:'\u001b[0m\u001b[0;34m)\u001b[0m\u001b[0;34m\u001b[0m\u001b[0;34m\u001b[0m\u001b[0m\n",
            "\u001b[0;32m/usr/local/lib/python3.12/dist-packages/ipykernel/kernelbase.py\u001b[0m in \u001b[0;36mraw_input\u001b[0;34m(self, prompt)\u001b[0m\n\u001b[1;32m   1175\u001b[0m                 \u001b[0;34m\"raw_input was called, but this frontend does not support input requests.\"\u001b[0m\u001b[0;34m\u001b[0m\u001b[0;34m\u001b[0m\u001b[0m\n\u001b[1;32m   1176\u001b[0m             )\n\u001b[0;32m-> 1177\u001b[0;31m         return self._input_request(\n\u001b[0m\u001b[1;32m   1178\u001b[0m             \u001b[0mstr\u001b[0m\u001b[0;34m(\u001b[0m\u001b[0mprompt\u001b[0m\u001b[0;34m)\u001b[0m\u001b[0;34m,\u001b[0m\u001b[0;34m\u001b[0m\u001b[0;34m\u001b[0m\u001b[0m\n\u001b[1;32m   1179\u001b[0m             \u001b[0mself\u001b[0m\u001b[0;34m.\u001b[0m\u001b[0m_parent_ident\u001b[0m\u001b[0;34m[\u001b[0m\u001b[0;34m\"shell\"\u001b[0m\u001b[0;34m]\u001b[0m\u001b[0;34m,\u001b[0m\u001b[0;34m\u001b[0m\u001b[0;34m\u001b[0m\u001b[0m\n",
            "\u001b[0;32m/usr/local/lib/python3.12/dist-packages/ipykernel/kernelbase.py\u001b[0m in \u001b[0;36m_input_request\u001b[0;34m(self, prompt, ident, parent, password)\u001b[0m\n\u001b[1;32m   1217\u001b[0m             \u001b[0;32mexcept\u001b[0m \u001b[0mKeyboardInterrupt\u001b[0m\u001b[0;34m:\u001b[0m\u001b[0;34m\u001b[0m\u001b[0;34m\u001b[0m\u001b[0m\n\u001b[1;32m   1218\u001b[0m                 \u001b[0;31m# re-raise KeyboardInterrupt, to truncate traceback\u001b[0m\u001b[0;34m\u001b[0m\u001b[0;34m\u001b[0m\u001b[0m\n\u001b[0;32m-> 1219\u001b[0;31m                 \u001b[0;32mraise\u001b[0m \u001b[0mKeyboardInterrupt\u001b[0m\u001b[0;34m(\u001b[0m\u001b[0;34m\"Interrupted by user\"\u001b[0m\u001b[0;34m)\u001b[0m \u001b[0;32mfrom\u001b[0m \u001b[0;32mNone\u001b[0m\u001b[0;34m\u001b[0m\u001b[0;34m\u001b[0m\u001b[0m\n\u001b[0m\u001b[1;32m   1220\u001b[0m             \u001b[0;32mexcept\u001b[0m \u001b[0mException\u001b[0m\u001b[0;34m:\u001b[0m\u001b[0;34m\u001b[0m\u001b[0;34m\u001b[0m\u001b[0m\n\u001b[1;32m   1221\u001b[0m                 \u001b[0mself\u001b[0m\u001b[0;34m.\u001b[0m\u001b[0mlog\u001b[0m\u001b[0;34m.\u001b[0m\u001b[0mwarning\u001b[0m\u001b[0;34m(\u001b[0m\u001b[0;34m\"Invalid Message:\"\u001b[0m\u001b[0;34m,\u001b[0m \u001b[0mexc_info\u001b[0m\u001b[0;34m=\u001b[0m\u001b[0;32mTrue\u001b[0m\u001b[0;34m)\u001b[0m\u001b[0;34m\u001b[0m\u001b[0;34m\u001b[0m\u001b[0m\n",
            "\u001b[0;31mKeyboardInterrupt\u001b[0m: Interrupted by user"
          ]
        }
      ]
    },
    {
      "cell_type": "code",
      "source": [
        "notas = []\n",
        "while True:\n",
        "  while True:\n",
        "    try:\n",
        "      nota = float(input(\"ingrese una nota entre 0 y 5: \"))\n",
        "    except ValueError:\n",
        "      print('La nota ingresada no es un caracter númerico. Inténtelo nuevamente.')\n",
        "    else:\n",
        "      if (nota >= 0.0) & (nota <= 5.0):\n",
        "        notas.append(nota)\n",
        "        if nota >= 4.5:\n",
        "            print(\"Excelente\")\n",
        "        elif nota >= 3.0:\n",
        "            print(\"Aprobado.\")\n",
        "        else:\n",
        "            print(\"No aprobado.\")\n",
        "        break\n",
        "      else:\n",
        "        print('La nota ingresada no está entre 0 y 5. Inténtelo nuevamente.')\n",
        "  otra_vez = (input('¿Quiere ingresar más notas? Responda Sí o No: ').strip()).lower()\n",
        "  if (otra_vez == 'no') | (otra_vez == 'n'):\n",
        "    print('Notas ingresadas correctamente:')\n",
        "    print('Notas:', notas)\n",
        "    break"
      ],
      "metadata": {
        "colab": {
          "base_uri": "https://localhost:8080/"
        },
        "id": "GI_vjJQNqR1g",
        "outputId": "f9ec08a2-41f4-4a64-d3c8-62e50f8485aa"
      },
      "id": "GI_vjJQNqR1g",
      "execution_count": null,
      "outputs": [
        {
          "output_type": "stream",
          "name": "stdout",
          "text": [
            "ingrese una nota entre 0 y 5: 6\n",
            "La nota ingresada no está entre 0 y 5. Inténtelo nuevamente.\n",
            "ingrese una nota entre 0 y 5: 6\n",
            "La nota ingresada no está entre 0 y 5. Inténtelo nuevamente.\n",
            "ingrese una nota entre 0 y 5: 5\n",
            "Excelente\n",
            "¿Quiere ingresar más notas? Responda Sí o No: No\n",
            "Notas ingresadas correctamente:\n",
            "Notas: [5.0]\n"
          ]
        }
      ]
    },
    {
      "cell_type": "code",
      "source": [
        "answer = True\n",
        "valores = []\n",
        "while answer:\n",
        "    try:\n",
        "        note = float(input(\"Ingrese el valor de la nota, debe ser un valor entre 0 a 5: \"))\n",
        "        if note >= 0 and note <= 5:\n",
        "            if note >= 4:\n",
        "                print(\"Excelente\")\n",
        "            elif note >= 3:\n",
        "                print(\"Bueno\")\n",
        "            else:\n",
        "                print(\"Malo\")\n",
        "            valores.append(note)\n",
        "        else:\n",
        "            print(\"El valor ingresado es incorrecto. Debe estar entre 0 y 5.\")\n",
        "        message = input(\"¿Desea seguir ingresando valores? (Si o No): \").strip().lower()\n",
        "        if message == \"no\":\n",
        "            answer = False\n",
        "            print(valores)\n",
        "    except ValueError:\n",
        "        print(\"Error: Debe ingresar un número válido.\")"
      ],
      "metadata": {
        "colab": {
          "base_uri": "https://localhost:8080/"
        },
        "id": "LYgpJt5yw0qP",
        "outputId": "60542633-c7e6-4c11-fc72-82ab75f6e32d"
      },
      "id": "LYgpJt5yw0qP",
      "execution_count": null,
      "outputs": [
        {
          "output_type": "stream",
          "name": "stdout",
          "text": [
            "Ingrese el valor de la nota, debe ser un valor entre 0 a 5: 3\n",
            "Bueno\n",
            "¿Desea seguir ingresando valores? (Si o No): Si\n",
            "Ingrese el valor de la nota, debe ser un valor entre 0 a 5: 3\n",
            "Bueno\n",
            "¿Desea seguir ingresando valores? (Si o No): 5\n",
            "Ingrese el valor de la nota, debe ser un valor entre 0 a 5: 3\n",
            "Bueno\n",
            "¿Desea seguir ingresando valores? (Si o No): Si\n",
            "Ingrese el valor de la nota, debe ser un valor entre 0 a 5: 4\n",
            "Excelente\n",
            "¿Desea seguir ingresando valores? (Si o No): No\n",
            "[3.0, 3.0, 3.0, 4.0]\n"
          ]
        }
      ]
    },
    {
      "cell_type": "code",
      "source": [
        "notas = []\n",
        "while True:\n",
        "  while True:\n",
        "    try:\n",
        "      nota = float(input(\"ingrese una nota entre 0 y 5: \"))\n",
        "      while True:\n",
        "        if nota < 0 or nota >5:\n",
        "            print('La nota ingresada no está en el rango permitido. Inténtelo nuevamente.')\n",
        "            nota = float(input(\"ingrese una nota entre 0 y 5: \"))\n",
        "        else:\n",
        "          break\n",
        "    except ValueError:\n",
        "      print('La nota ingresada no es un caracter númerico. Inténtelo nuevamente.')\n",
        "    else:\n",
        "      notas.append(nota)\n",
        "\n",
        "      if nota >= 4.5:\n",
        "        print(\"Excelente\")\n",
        "      elif nota >= 3.0:\n",
        "        print(\"Aprobado\")\n",
        "      else:\n",
        "        print(\"No aprobado\")\n",
        "      break\n",
        "\n",
        "  while True:\n",
        "    otra_vez = input('¿Quiere ingresar más notas? Responda Sí o No: ')\n",
        "    if otra_vez.lower() == 'si':\n",
        "      break\n",
        "    elif otra_vez.lower() == 'no':\n",
        "      break\n",
        "    else:\n",
        "      print('Respuesta incorrecta. Responda Sí o No.')\n",
        "  if otra_vez.lower() == 'no':\n",
        "    print('Notas ingresadas correctamente:')\n",
        "    print('Notas:', notas)\n",
        "    break"
      ],
      "metadata": {
        "colab": {
          "base_uri": "https://localhost:8080/",
          "height": 356
        },
        "id": "Ia2zBaSGyLHp",
        "outputId": "a16df7dc-b6e9-401f-833a-c673bd95b0ed"
      },
      "id": "Ia2zBaSGyLHp",
      "execution_count": null,
      "outputs": [
        {
          "output_type": "error",
          "ename": "KeyboardInterrupt",
          "evalue": "Interrupted by user",
          "traceback": [
            "\u001b[0;31m---------------------------------------------------------------------------\u001b[0m",
            "\u001b[0;31mKeyboardInterrupt\u001b[0m                         Traceback (most recent call last)",
            "\u001b[0;32m/tmp/ipython-input-617672044.py\u001b[0m in \u001b[0;36m<cell line: 0>\u001b[0;34m()\u001b[0m\n\u001b[1;32m      3\u001b[0m   \u001b[0;32mwhile\u001b[0m \u001b[0;32mTrue\u001b[0m\u001b[0;34m:\u001b[0m\u001b[0;34m\u001b[0m\u001b[0;34m\u001b[0m\u001b[0m\n\u001b[1;32m      4\u001b[0m     \u001b[0;32mtry\u001b[0m\u001b[0;34m:\u001b[0m\u001b[0;34m\u001b[0m\u001b[0;34m\u001b[0m\u001b[0m\n\u001b[0;32m----> 5\u001b[0;31m       \u001b[0mnota\u001b[0m \u001b[0;34m=\u001b[0m \u001b[0mfloat\u001b[0m\u001b[0;34m(\u001b[0m\u001b[0minput\u001b[0m\u001b[0;34m(\u001b[0m\u001b[0;34m\"ingrese una nota entre 0 y 5: \"\u001b[0m\u001b[0;34m)\u001b[0m\u001b[0;34m)\u001b[0m\u001b[0;34m\u001b[0m\u001b[0;34m\u001b[0m\u001b[0m\n\u001b[0m\u001b[1;32m      6\u001b[0m       \u001b[0;32mwhile\u001b[0m \u001b[0;32mTrue\u001b[0m\u001b[0;34m:\u001b[0m\u001b[0;34m\u001b[0m\u001b[0;34m\u001b[0m\u001b[0m\n\u001b[1;32m      7\u001b[0m         \u001b[0;32mif\u001b[0m \u001b[0mnota\u001b[0m \u001b[0;34m<\u001b[0m \u001b[0;36m0\u001b[0m \u001b[0;32mor\u001b[0m \u001b[0mnota\u001b[0m \u001b[0;34m>\u001b[0m\u001b[0;36m5\u001b[0m\u001b[0;34m:\u001b[0m\u001b[0;34m\u001b[0m\u001b[0;34m\u001b[0m\u001b[0m\n",
            "\u001b[0;32m/usr/local/lib/python3.12/dist-packages/ipykernel/kernelbase.py\u001b[0m in \u001b[0;36mraw_input\u001b[0;34m(self, prompt)\u001b[0m\n\u001b[1;32m   1175\u001b[0m                 \u001b[0;34m\"raw_input was called, but this frontend does not support input requests.\"\u001b[0m\u001b[0;34m\u001b[0m\u001b[0;34m\u001b[0m\u001b[0m\n\u001b[1;32m   1176\u001b[0m             )\n\u001b[0;32m-> 1177\u001b[0;31m         return self._input_request(\n\u001b[0m\u001b[1;32m   1178\u001b[0m             \u001b[0mstr\u001b[0m\u001b[0;34m(\u001b[0m\u001b[0mprompt\u001b[0m\u001b[0;34m)\u001b[0m\u001b[0;34m,\u001b[0m\u001b[0;34m\u001b[0m\u001b[0;34m\u001b[0m\u001b[0m\n\u001b[1;32m   1179\u001b[0m             \u001b[0mself\u001b[0m\u001b[0;34m.\u001b[0m\u001b[0m_parent_ident\u001b[0m\u001b[0;34m[\u001b[0m\u001b[0;34m\"shell\"\u001b[0m\u001b[0;34m]\u001b[0m\u001b[0;34m,\u001b[0m\u001b[0;34m\u001b[0m\u001b[0;34m\u001b[0m\u001b[0m\n",
            "\u001b[0;32m/usr/local/lib/python3.12/dist-packages/ipykernel/kernelbase.py\u001b[0m in \u001b[0;36m_input_request\u001b[0;34m(self, prompt, ident, parent, password)\u001b[0m\n\u001b[1;32m   1217\u001b[0m             \u001b[0;32mexcept\u001b[0m \u001b[0mKeyboardInterrupt\u001b[0m\u001b[0;34m:\u001b[0m\u001b[0;34m\u001b[0m\u001b[0;34m\u001b[0m\u001b[0m\n\u001b[1;32m   1218\u001b[0m                 \u001b[0;31m# re-raise KeyboardInterrupt, to truncate traceback\u001b[0m\u001b[0;34m\u001b[0m\u001b[0;34m\u001b[0m\u001b[0m\n\u001b[0;32m-> 1219\u001b[0;31m                 \u001b[0;32mraise\u001b[0m \u001b[0mKeyboardInterrupt\u001b[0m\u001b[0;34m(\u001b[0m\u001b[0;34m\"Interrupted by user\"\u001b[0m\u001b[0;34m)\u001b[0m \u001b[0;32mfrom\u001b[0m \u001b[0;32mNone\u001b[0m\u001b[0;34m\u001b[0m\u001b[0;34m\u001b[0m\u001b[0m\n\u001b[0m\u001b[1;32m   1220\u001b[0m             \u001b[0;32mexcept\u001b[0m \u001b[0mException\u001b[0m\u001b[0;34m:\u001b[0m\u001b[0;34m\u001b[0m\u001b[0;34m\u001b[0m\u001b[0m\n\u001b[1;32m   1221\u001b[0m                 \u001b[0mself\u001b[0m\u001b[0;34m.\u001b[0m\u001b[0mlog\u001b[0m\u001b[0;34m.\u001b[0m\u001b[0mwarning\u001b[0m\u001b[0;34m(\u001b[0m\u001b[0;34m\"Invalid Message:\"\u001b[0m\u001b[0;34m,\u001b[0m \u001b[0mexc_info\u001b[0m\u001b[0;34m=\u001b[0m\u001b[0;32mTrue\u001b[0m\u001b[0;34m)\u001b[0m\u001b[0;34m\u001b[0m\u001b[0;34m\u001b[0m\u001b[0m\n",
            "\u001b[0;31mKeyboardInterrupt\u001b[0m: Interrupted by user"
          ]
        }
      ]
    },
    {
      "cell_type": "markdown",
      "id": "823acd7e",
      "metadata": {
        "id": "823acd7e"
      },
      "source": [
        "## 7) Funciones"
      ]
    },
    {
      "cell_type": "code",
      "source": [
        "# Implementa las funciones pedidas: suma, mayor_de_tres, area_circulo, normaliza_nombre\n"
      ],
      "metadata": {
        "id": "ok4n5fBBxo4I"
      },
      "id": "ok4n5fBBxo4I",
      "execution_count": null,
      "outputs": []
    },
    {
      "cell_type": "markdown",
      "source": [
        "\n",
        "## 🧱 Requerimientos de funciones\n",
        "\n",
        "1. **`suma(lista)`**  \n",
        "   - Recibe una *lista* de números (enteros o flotantes) y retorna la suma total.  \n",
        "   - Validar que todos los elementos sean numéricos; si no, **levantar `TypeError`** con un mensaje claro.\n",
        "\n",
        "2. **`mayor_de_tres(a, b, c)`**  \n",
        "   - Retorna el mayor de tres valores.  \n",
        "   - Debe funcionar con **números** o **cadenas** (comparación alfabética).  \n",
        "   - Si los tipos son mezclados (incomparables), **levantar `TypeError`**.\n",
        "\n",
        "3. **`area_circulo(r)`**  \n",
        "   - Calcula el área usando `πr²` (usar `math.pi`).  \n",
        "   - Validar que `r` sea **numérico y positivo**; si no, **levantar `ValueError`**.  \n",
        "   - Redondear el resultado a **2 decimales**.\n",
        "\n",
        "4. **`normaliza_nombre(nombre)`**  \n",
        "   - Limpia espacios al inicio/fin y reduce espacios múltiples internos a uno.  \n",
        "   - Pone **Mayúscula Inicial** en cada palabra (resto minúsculas).  \n",
        "   - Si recibe algo que no es `str`, **levantar `TypeError`**."
      ],
      "metadata": {
        "id": "7GumJ04Otaj6"
      },
      "id": "7GumJ04Otaj6"
    }
  ],
  "metadata": {
    "colab": {
      "provenance": [],
      "include_colab_link": true
    },
    "language_info": {
      "name": "python"
    },
    "kernelspec": {
      "name": "python3",
      "display_name": "Python 3"
    }
  },
  "nbformat": 4,
  "nbformat_minor": 5
}