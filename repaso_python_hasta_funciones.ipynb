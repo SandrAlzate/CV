{
  "cells": [
    {
      "cell_type": "markdown",
      "metadata": {
        "id": "view-in-github",
        "colab_type": "text"
      },
      "source": [
        "<a href=\"https://colab.research.google.com/github/SandrAlzate/CV/blob/master/repaso_python_hasta_funciones.ipynb\" target=\"_parent\"><img src=\"https://colab.research.google.com/assets/colab-badge.svg\" alt=\"Open In Colab\"/></a>"
      ]
    },
    {
      "cell_type": "markdown",
      "id": "11233be8",
      "metadata": {
        "id": "11233be8"
      },
      "source": [
        "\n",
        "# 📘 Repaso de Python (hasta **Funciones**)\n",
        "\n",
        "**Objetivo:** Consolidar lo aprendido: variables, tipos, operadores, matemáticas básicas, cadenas, estructuras (lista/tupla/diccionario), condicionales, ciclos (`for`/`while`) y **funciones**.\n",
        "\n"
      ]
    },
    {
      "cell_type": "markdown",
      "id": "cdc7296c",
      "metadata": {
        "id": "cdc7296c"
      },
      "source": [
        "\n",
        "## 🗺️ Agenda\n",
        "1) Variables y tipos  \n",
        "2) Operadores y matemáticas básicas  \n",
        "3) Cadenas (strings) y métodos útiles  \n",
        "4) Estructuras: **listas**, **tuplas**, **diccionarios**  \n",
        "5) Condicionales: `if / elif / else`  \n",
        "6) Bucles: `for`, `while`, `break`, `continue`, `else`  \n",
        "7) **Funciones**: definición, parámetros, retorno  \n",
        "8) Retos integradores\n"
      ]
    },
    {
      "cell_type": "markdown",
      "id": "5187f5a6",
      "metadata": {
        "id": "5187f5a6"
      },
      "source": [
        "\n",
        "---\n",
        "## 1) Variables y tipos\n",
        "- Asignación y *type*.\n",
        "- Conversión de tipos (*casting*).\n"
      ]
    },
    {
      "cell_type": "code",
      "execution_count": null,
      "id": "8b97f094",
      "metadata": {
        "id": "8b97f094",
        "colab": {
          "base_uri": "https://localhost:8080/"
        },
        "outputId": "325a55ef-74ae-4310-9f55-4c5ce1ee8e3a"
      },
      "outputs": [
        {
          "output_type": "stream",
          "name": "stdout",
          "text": [
            "<class 'str'> <class 'int'> <class 'float'> <class 'bool'>\n"
          ]
        }
      ],
      "source": [
        "# Asignación y tipos\n",
        "nombre = \"Ana\"\n",
        "edad = 21\n",
        "altura = 1.68\n",
        "es_estudiante = True\n",
        "\n",
        "print(type(nombre), type(edad), type(altura), type(es_estudiante))"
      ]
    },
    {
      "cell_type": "code",
      "execution_count": null,
      "id": "af06a2f7",
      "metadata": {
        "id": "af06a2f7"
      },
      "outputs": [],
      "source": [
        "# Casting\n",
        "x = \"42\"\n",
        "x_int = int(x)\n",
        "x_float = float(x)\n",
        "print(x, type(x), \"|\", x_int, type(x_int), \"|\", x_float, type(x_float))"
      ]
    },
    {
      "cell_type": "markdown",
      "id": "395b5060",
      "metadata": {
        "id": "395b5060"
      },
      "source": [
        "\n",
        "### 🧪 Ejercicio rápido\n",
        "Pide **nombre** (str) y **edad** (int) por teclado y muestra: `\"Hola, [nombre]. El año que viene tendrás [edad+1].\"`\n"
      ]
    },
    {
      "cell_type": "code",
      "execution_count": null,
      "id": "e3252026",
      "metadata": {
        "id": "e3252026",
        "colab": {
          "base_uri": "https://localhost:8080/"
        },
        "outputId": "3a5b260b-67eb-46bf-e6b7-2297c6a625cd"
      },
      "outputs": [
        {
          "name": "stdout",
          "output_type": "stream",
          "text": [
            "Cual es tu nombre?Roslay \n",
            "ingrese su edad?40\n"
          ]
        }
      ],
      "source": [
        "#pedir datos al usuario\n",
        "nombre=input(\"Cual es tu nombre?\")\n",
        "edad=int(input(\"ingrese su edad?\"))"
      ]
    },
    {
      "cell_type": "code",
      "source": [
        "print(f\"Hola, {nombre}. El año que viene tendras {edad+1}\")"
      ],
      "metadata": {
        "colab": {
          "base_uri": "https://localhost:8080/"
        },
        "id": "baqYD_f0E5f_",
        "outputId": "dc66a19f-bd97-447e-c401-f8fcdc6e40a4"
      },
      "id": "baqYD_f0E5f_",
      "execution_count": null,
      "outputs": [
        {
          "output_type": "stream",
          "name": "stdout",
          "text": [
            "Hola, Roslay . El año que viene tendras 41\n"
          ]
        }
      ]
    },
    {
      "cell_type": "markdown",
      "id": "f7d4d113",
      "metadata": {
        "id": "f7d4d113"
      },
      "source": [
        "\n",
        "---\n",
        "## 2) Operadores y matemáticas básicas\n",
        "- Aritméticos: `+ - * / // % **`\n",
        "- Comparación: `== != > < >= <=`\n",
        "- Lógicos: `and or not`\n",
        "- Módulo `math` (básico)\n"
      ]
    },
    {
      "cell_type": "code",
      "execution_count": null,
      "id": "12fd593d",
      "metadata": {
        "id": "12fd593d",
        "colab": {
          "base_uri": "https://localhost:8080/"
        },
        "outputId": "8f4d0725-6813-41aa-9ed0-02825852c23f"
      },
      "outputs": [
        {
          "output_type": "stream",
          "name": "stdout",
          "text": [
            "suma: 10 | resta: 4 | mult: 21 | div: 2.3333333333333335\n",
            "entera: 2 | mod: 1 | potencia: 343\n",
            "a>b? True | a==b? False\n"
          ]
        }
      ],
      "source": [
        "# Aritméticos y comparación\n",
        "a, b = 7, 3\n",
        "print(\"suma:\", a+b, \"| resta:\", a-b, \"| mult:\", a*b, \"| div:\", a/b)\n",
        "print(\"entera:\", a//b, \"| mod:\", a%b, \"| potencia:\", a**b)\n",
        "print(\"a>b?\", a>b, \"| a==b?\", a==b)"
      ]
    },
    {
      "cell_type": "code",
      "execution_count": null,
      "id": "55d53ab4",
      "metadata": {
        "id": "55d53ab4",
        "colab": {
          "base_uri": "https://localhost:8080/"
        },
        "outputId": "85d0d6df-c037-4c5a-e15f-d3a92a315dbd"
      },
      "outputs": [
        {
          "output_type": "stream",
          "name": "stdout",
          "text": [
            "sqrt(16): 4.0\n",
            "ceil(5.1): 6 | floor(5.9): 5\n",
            "pi: 3.141592653589793\n"
          ]
        }
      ],
      "source": [
        "# math básico\n",
        "import math\n",
        "print(\"sqrt(16):\", math.sqrt(16))\n",
        "print(\"ceil(5.1):\", math.ceil(5.1), \"| floor(5.9):\", math.floor(5.9))\n",
        "print(\"pi:\", math.pi)"
      ]
    },
    {
      "cell_type": "markdown",
      "id": "da7cd040",
      "metadata": {
        "id": "da7cd040"
      },
      "source": [
        "\n",
        "### 🧪 Ejercicio rápido\n",
        "Calcula el **área de un círculo** pidiendo el radio por teclado. Usa `math.pi`.\n"
      ]
    },
    {
      "cell_type": "code",
      "execution_count": null,
      "id": "fe2abd15",
      "metadata": {
        "id": "fe2abd15",
        "colab": {
          "base_uri": "https://localhost:8080/"
        },
        "outputId": "33ea9db9-ec99-46a2-d12b-90bd3bfe173f"
      },
      "outputs": [
        {
          "name": "stdout",
          "output_type": "stream",
          "text": [
            "Ingresa el radio del circulo 5\n"
          ]
        }
      ],
      "source": [
        "radio=float(input(\"Ingresa el radio del circulo \"))"
      ]
    },
    {
      "cell_type": "code",
      "source": [
        "area= math.pi*radio**2"
      ],
      "metadata": {
        "id": "b6om8SE-HmE2"
      },
      "id": "b6om8SE-HmE2",
      "execution_count": null,
      "outputs": []
    },
    {
      "cell_type": "code",
      "source": [
        "print(f\"el area del circulo con radio {radio} es: {area:.2f}\")"
      ],
      "metadata": {
        "colab": {
          "base_uri": "https://localhost:8080/"
        },
        "id": "7DlbsdwJH5kl",
        "outputId": "b35db2ef-e32e-4c15-b328-f40afd0226dc"
      },
      "id": "7DlbsdwJH5kl",
      "execution_count": null,
      "outputs": [
        {
          "output_type": "stream",
          "name": "stdout",
          "text": [
            "el area del circulo con radio 5.0 es: 78.54\n"
          ]
        }
      ]
    },
    {
      "cell_type": "markdown",
      "id": "bdd11a5d",
      "metadata": {
        "id": "bdd11a5d"
      },
      "source": [
        "\n",
        "---\n",
        "## 3) Cadenas (strings)\n",
        "- Indexación y slicing.\n",
        "- Métodos: `len`, `count`, `find`, `upper/lower`, `strip`, `split`, `replace`.\n"
      ]
    },
    {
      "cell_type": "code",
      "execution_count": null,
      "id": "ce9f9e25",
      "metadata": {
        "id": "ce9f9e25",
        "colab": {
          "base_uri": "https://localhost:8080/"
        },
        "outputId": "c713dd75-2720-4bad-ce6b-1f6a60c00280"
      },
      "outputs": [
        {
          "output_type": "stream",
          "name": "stdout",
          "text": [
            "len: 27\n",
            "strip: Inteligencia Artificial\n",
            "upper:   INTELIGENCIA ARTIFICIAL  \n",
            "find('cial'): 21\n",
            "replace:   Inteligencia Aplicada  \n",
            "split: ['Inteligencia', 'Artificial']\n"
          ]
        }
      ],
      "source": [
        "# Indexación y métodos\n",
        "texto = \"  Inteligencia Artificial  \"\n",
        "print(\"len:\", len(texto))\n",
        "print(\"strip:\", texto.strip())\n",
        "print(\"upper:\", texto.upper())\n",
        "print(\"find('cial'):\", texto.find(\"cial\"))\n",
        "print(\"replace:\", texto.replace(\"Artificial\", \"Aplicada\"))\n",
        "print(\"split:\", texto.split())"
      ]
    },
    {
      "cell_type": "markdown",
      "id": "79e0d0fe",
      "metadata": {
        "id": "79e0d0fe"
      },
      "source": [
        "\n",
        "### 🧪 Ejercicio rápido\n",
        "Pide una **frase** y un **carácter**, y muestra cuántas veces aparece el carácter.\n"
      ]
    },
    {
      "cell_type": "code",
      "execution_count": null,
      "id": "87219582",
      "metadata": {
        "id": "87219582",
        "colab": {
          "base_uri": "https://localhost:8080/"
        },
        "outputId": "d58ad18e-e7f3-4b1b-8d84-dd99476c913e"
      },
      "outputs": [
        {
          "name": "stdout",
          "output_type": "stream",
          "text": [
            "escribeme un frase hola mundo mis querisos camapistas\n",
            "Que caracter quieres encontrar m\n"
          ]
        }
      ],
      "source": [
        "#pedimos una frase\n",
        "frase=input(\"escribeme un frase \")\n",
        "caracter= input(\"Que caracter quieres encontrar \")"
      ]
    },
    {
      "cell_type": "code",
      "source": [
        "#usamos count para contar ocurrencias\n",
        "cantidad=frase.count(caracter)"
      ],
      "metadata": {
        "id": "wwSfEBGGJZM_"
      },
      "id": "wwSfEBGGJZM_",
      "execution_count": null,
      "outputs": []
    },
    {
      "cell_type": "code",
      "source": [
        "print(f\"El caracter {caracter} aparece {cantidad}  veces\")\n",
        "\n",
        "print(\"El caracter \"+ caracter )"
      ],
      "metadata": {
        "colab": {
          "base_uri": "https://localhost:8080/"
        },
        "id": "Kq_buwExJk7F",
        "outputId": "22d8ad94-0a77-4d2d-e223-2a97cb85895e"
      },
      "id": "Kq_buwExJk7F",
      "execution_count": null,
      "outputs": [
        {
          "output_type": "stream",
          "name": "stdout",
          "text": [
            "El caracter m aparece 3  veces\n",
            "El caracter m\n"
          ]
        }
      ]
    },
    {
      "cell_type": "code",
      "source": [
        "mayuscula=frase.upper()\n",
        "minus=frase.lower()\n",
        "print(mayuscula)\n",
        "print(minus)"
      ],
      "metadata": {
        "colab": {
          "base_uri": "https://localhost:8080/"
        },
        "id": "yYTxqXz6J3ef",
        "outputId": "81e0221d-3397-40e5-f385-6651f62cd53e"
      },
      "id": "yYTxqXz6J3ef",
      "execution_count": null,
      "outputs": [
        {
          "output_type": "stream",
          "name": "stdout",
          "text": [
            "HOLA MUNDO MIS QUERISOS CAMAPISTAS\n",
            "hola mundo mis querisos camapistas\n"
          ]
        }
      ]
    },
    {
      "cell_type": "markdown",
      "id": "2e38b22e",
      "metadata": {
        "id": "2e38b22e"
      },
      "source": [
        "\n",
        "---\n",
        "## 4) Estructuras: listas, tuplas, diccionarios\n"
      ]
    },
    {
      "cell_type": "code",
      "execution_count": null,
      "id": "b48e359f",
      "metadata": {
        "id": "b48e359f",
        "colab": {
          "base_uri": "https://localhost:8080/"
        },
        "outputId": "02db05ab-ab67-42c8-9b69-188d49231364"
      },
      "outputs": [
        {
          "output_type": "stream",
          "name": "stdout",
          "text": [
            "['manzana', 'naranja', 'uva', 'mango']\n"
          ]
        }
      ],
      "source": [
        "# Lista (mutable)\n",
        "frutas = [\"manzana\", \"pera\", \"uva\"]\n",
        "frutas.append(\"mango\")\n",
        "frutas[1] = \"naranja\"\n",
        "print(frutas)"
      ]
    },
    {
      "cell_type": "code",
      "source": [
        "frutas.append(\"mandarina\")\n",
        "print (frutas)"
      ],
      "metadata": {
        "colab": {
          "base_uri": "https://localhost:8080/"
        },
        "id": "F9dhqaU5K56_",
        "outputId": "e3995b3a-af2a-4b9e-9e9e-675a5be21b33"
      },
      "id": "F9dhqaU5K56_",
      "execution_count": null,
      "outputs": [
        {
          "output_type": "stream",
          "name": "stdout",
          "text": [
            "['manzana', 'naranja', 'uva', 'mango', 'mandarina', 'mandarina', 'mandarina', 'mandarina']\n"
          ]
        }
      ]
    },
    {
      "cell_type": "markdown",
      "source": [
        "ingresando listas desde teclado\n"
      ],
      "metadata": {
        "id": "-rswbY46Lb6x"
      },
      "id": "-rswbY46Lb6x"
    },
    {
      "cell_type": "code",
      "source": [
        "#pedir al usuario cantidad de elementos\n",
        "cant=int(input(\"ingrese la cantidad de elementos que desea en su lista\"))\n",
        "#creando una lista vacia\n",
        "lista_granos=[]"
      ],
      "metadata": {
        "colab": {
          "base_uri": "https://localhost:8080/"
        },
        "id": "1_gZ1s8KLbY6",
        "outputId": "493d2a08-4918-4004-fcee-bc1c4ef74900"
      },
      "id": "1_gZ1s8KLbY6",
      "execution_count": null,
      "outputs": [
        {
          "name": "stdout",
          "output_type": "stream",
          "text": [
            "ingrese la cantidad de elementos que desea en su lista4\n"
          ]
        }
      ]
    },
    {
      "cell_type": "code",
      "source": [
        "# vamos a pedir cada elemnto de lista\n",
        "print(\"ingresa cada item\")\n",
        "for i in range(cant):\n",
        "  numero=input(f\"numrto {i+1}: \")\n",
        "  lista_granos.append(numero)"
      ],
      "metadata": {
        "colab": {
          "base_uri": "https://localhost:8080/"
        },
        "id": "cqtVX67EMYUU",
        "outputId": "073758ab-672c-44aa-f117-5db04352a712"
      },
      "id": "cqtVX67EMYUU",
      "execution_count": null,
      "outputs": [
        {
          "name": "stdout",
          "output_type": "stream",
          "text": [
            "ingresa cada item\n",
            "numrto 1: kljkkk\n",
            "numrto 2: hhhh\n",
            "numrto 3: hhh\n",
            "numrto 4: hhh\n"
          ]
        }
      ]
    },
    {
      "cell_type": "code",
      "source": [
        "print(lista_granos)"
      ],
      "metadata": {
        "colab": {
          "base_uri": "https://localhost:8080/"
        },
        "id": "S9iLyX8VNfH4",
        "outputId": "15d71c96-1c6d-4aa7-c981-4a2675de37aa"
      },
      "id": "S9iLyX8VNfH4",
      "execution_count": null,
      "outputs": [
        {
          "output_type": "stream",
          "name": "stdout",
          "text": [
            "['kkk', 'ddd', 'ddd', 'jjj', 'kkk', 'lll', 'uuu', 'kljkkk', 'hhhh', 'hhh', 'hhh']\n"
          ]
        }
      ]
    },
    {
      "cell_type": "code",
      "execution_count": null,
      "id": "828876a8",
      "metadata": {
        "id": "828876a8",
        "colab": {
          "base_uri": "https://localhost:8080/"
        },
        "outputId": "64c5d3d0-d8d4-44cc-dfd2-419b4a36a31a"
      },
      "outputs": [
        {
          "output_type": "stream",
          "name": "stdout",
          "text": [
            "rojo azul\n"
          ]
        }
      ],
      "source": [
        "# Tupla (inmutable)\n",
        "colores = (\"rojo\", \"verde\", \"azul\")\n",
        "print(colores[0], colores[-1])"
      ]
    },
    {
      "cell_type": "code",
      "execution_count": null,
      "id": "7042a1d8",
      "metadata": {
        "id": "7042a1d8",
        "colab": {
          "base_uri": "https://localhost:8080/"
        },
        "outputId": "b5392a9b-a465-448f-9f9b-0e9a4a9dd39b"
      },
      "outputs": [
        {
          "output_type": "stream",
          "name": "stdout",
          "text": [
            "Pera cuesta: 1500\n",
            "{'manzana': 1800, 'pera': 1500, 'naranja': 1600, 'mango': 2000}\n"
          ]
        }
      ],
      "source": [
        "# Diccionario (clave-valor)\n",
        "precios = {\"manzana\": 1800, \"pera\": 1500, \"naranja\": 1600}\n",
        "print(\"Pera cuesta:\", precios[\"pera\"])\n",
        "precios[\"mango\"] = 2000\n",
        "print(precios)"
      ]
    },
    {
      "cell_type": "markdown",
      "id": "c4dbd98a",
      "metadata": {
        "id": "c4dbd98a"
      },
      "source": [
        "\n",
        "### 🧪 Ejercicio rápido\n",
        "Crea un diccionario de **3 estudiantes → nota**. Agrega uno nuevo, modifica la nota de otro y recorre el diccionario imprimiendo `nombre → nota`.\n"
      ]
    },
    {
      "cell_type": "code",
      "execution_count": null,
      "id": "b48ec731",
      "metadata": {
        "id": "b48ec731"
      },
      "outputs": [],
      "source": [
        "agenda={\n",
        "    \"mama\":123456,\n",
        "    \"papa\":789456,\n",
        "    \"hija\":125436\n",
        "}"
      ]
    },
    {
      "cell_type": "markdown",
      "id": "c3fe2fcd",
      "metadata": {
        "id": "c3fe2fcd"
      },
      "source": [
        "\n",
        "---\n",
        "## 5) Condicionales: `if / elif / else`\n"
      ]
    },
    {
      "cell_type": "code",
      "execution_count": null,
      "id": "cf06d8ce",
      "metadata": {
        "id": "cf06d8ce"
      },
      "outputs": [],
      "source": [
        "# Ejemplo\n",
        "nota = 3.7\n",
        "if nota >= 4.5:\n",
        "    estado = \"Excelente\"\n",
        "elif nota >= 3.0:\n",
        "    estado = \"Aprobado\"\n",
        "else:\n",
        "    estado = \"No aprobado\"\n",
        "print(\"Estado:\", estado)"
      ]
    },
    {
      "cell_type": "markdown",
      "id": "e13cc79d",
      "metadata": {
        "id": "e13cc79d"
      },
      "source": [
        "\n",
        "### 🧪 Ejercicio rápido\n",
        "Pide un número y muestra si es **positivo, negativo o cero**.\n"
      ]
    },
    {
      "cell_type": "code",
      "execution_count": null,
      "id": "e7e5039e",
      "metadata": {
        "id": "e7e5039e",
        "colab": {
          "base_uri": "https://localhost:8080/"
        },
        "outputId": "aaf4c1a4-69f0-4dc5-b33e-3bdeb3ebd645"
      },
      "outputs": [
        {
          "name": "stdout",
          "output_type": "stream",
          "text": [
            "ingresa un numero entero-3\n"
          ]
        }
      ],
      "source": [
        "#pedimos el numero al usuario\n",
        "num=int(input(\"ingresa un numero entero\"))"
      ]
    },
    {
      "cell_type": "code",
      "source": [
        "if num > 0:\n",
        "  print(\"el numero es positivo\")\n",
        "if num == 0:\n",
        "  print(\"el numero es cero\")\n",
        "else:\n",
        "  print(\"el numero es negativo\")"
      ],
      "metadata": {
        "colab": {
          "base_uri": "https://localhost:8080/"
        },
        "id": "rQJDe6WZgV_4",
        "outputId": "5f531a77-a8ff-4713-c629-fbaff49b72f0"
      },
      "id": "rQJDe6WZgV_4",
      "execution_count": null,
      "outputs": [
        {
          "output_type": "stream",
          "name": "stdout",
          "text": [
            "el numero es negativo\n"
          ]
        }
      ]
    },
    {
      "cell_type": "markdown",
      "id": "6a80c47f",
      "metadata": {
        "id": "6a80c47f"
      },
      "source": [
        "\n",
        "---\n",
        "## 6) Bucles: `for`, `while`, `break`, `continue`, `else`\n"
      ]
    },
    {
      "cell_type": "code",
      "execution_count": null,
      "id": "d7ec46c8",
      "metadata": {
        "id": "d7ec46c8",
        "colab": {
          "base_uri": "https://localhost:8080/"
        },
        "outputId": "b78a180a-ae46-4cc1-9739-a3763a2e524a"
      },
      "outputs": [
        {
          "output_type": "stream",
          "name": "stdout",
          "text": [
            "i = 1\n",
            "i = 2\n",
            "i = 3\n",
            "i = 4\n",
            "i = 5\n",
            "i = 6\n",
            "i = 7\n",
            "i = 8\n",
            "i = 9\n",
            "i = 10\n"
          ]
        }
      ],
      "source": [
        "# for + range\n",
        "for i in range(1, 11):\n",
        "    print(\"i =\", i)"
      ]
    },
    {
      "cell_type": "code",
      "execution_count": null,
      "id": "de57456f",
      "metadata": {
        "id": "de57456f",
        "colab": {
          "base_uri": "https://localhost:8080/"
        },
        "outputId": "4e0f468c-cafa-4e9e-b823-aa11356fd3d3"
      },
      "outputs": [
        {
          "output_type": "stream",
          "name": "stdout",
          "text": [
            "contador: 1\n",
            "contador: 2\n",
            "contador: 3\n",
            "contador: 4\n",
            "contador: 5\n"
          ]
        }
      ],
      "source": [
        "# while con contador\n",
        "contador = 1\n",
        "while contador <= 5:\n",
        "    print(\"contador:\", contador)\n",
        "    contador += 1"
      ]
    },
    {
      "cell_type": "code",
      "execution_count": null,
      "id": "d48b1271",
      "metadata": {
        "id": "d48b1271",
        "colab": {
          "base_uri": "https://localhost:8080/"
        },
        "outputId": "b7cdf023-96b8-4da2-e1ef-73966da7b418"
      },
      "outputs": [
        {
          "output_type": "stream",
          "name": "stdout",
          "text": [
            "impar: 1\n",
            "impar: 3\n",
            "break en 5\n"
          ]
        }
      ],
      "source": [
        "# break / continue / else\n",
        "for i in range(1, 8):\n",
        "    if i == 5:\n",
        "        print(\"break en\", i)\n",
        "        break\n",
        "    if i % 2 == 0:\n",
        "        continue\n",
        "    print(\"impar:\", i)\n",
        "else:\n",
        "    print(\"Este else se ejecuta si NO hubo break\")"
      ]
    },
    {
      "cell_type": "markdown",
      "id": "692680f3",
      "metadata": {
        "id": "692680f3"
      },
      "source": [
        "\n",
        "### 🧪 Ejercicio rápido\n",
        "Imprime todos los **múltiplos de 3** entre 1 y 30, **omitindo** los múltiplos de 5 (usa `continue`).\n"
      ]
    },
    {
      "cell_type": "code",
      "execution_count": null,
      "id": "39bc7b2c",
      "metadata": {
        "id": "39bc7b2c",
        "colab": {
          "base_uri": "https://localhost:8080/"
        },
        "outputId": "1067e659-1c50-4fe0-c432-09b5efc24a63"
      },
      "outputs": [
        {
          "output_type": "stream",
          "name": "stdout",
          "text": [
            "3\n",
            "6\n",
            "9\n",
            "12\n",
            "18\n",
            "21\n",
            "24\n",
            "27\n"
          ]
        }
      ],
      "source": [
        "#imprimir multiplos\n",
        "for i in range (1,31):\n",
        "  #verificamos si es multiplo de 3\n",
        "  if i %3==0:\n",
        "    #verificamos di tambien es multiplo de5\n",
        "    if i%5==0:\n",
        "      continue\n",
        "    print(i)\n"
      ]
    },
    {
      "cell_type": "markdown",
      "id": "6ff55495",
      "metadata": {
        "id": "6ff55495"
      },
      "source": [
        "\n",
        "---\n",
        "## 7) **Funciones**\n",
        "- `def nombre(parametros): ... return valor`\n",
        "- Parámetros y retorno.\n",
        "- Buenas prácticas: funciones pequeñas, nombres claros, docstrings.\n"
      ]
    },
    {
      "cell_type": "code",
      "execution_count": null,
      "id": "f4f7a9d7",
      "metadata": {
        "id": "f4f7a9d7",
        "colab": {
          "base_uri": "https://localhost:8080/"
        },
        "outputId": "5b17a8f7-d1d7-4efd-d5cb-49baed01d95a"
      },
      "outputs": [
        {
          "output_type": "stream",
          "name": "stdout",
          "text": [
            "Hola, Roslay!\n"
          ]
        }
      ],
      "source": [
        "# Definición + retorno\n",
        "def saludo(nombre):\n",
        "    \"\"\"Retorna un saludo personalizado.\"\"\"\n",
        "    return f\"Hola, {nombre}!\"\n",
        "\n",
        "print(saludo(\"Roslay\"))"
      ]
    },
    {
      "cell_type": "code",
      "execution_count": null,
      "id": "4adf587c",
      "metadata": {
        "id": "4adf587c",
        "colab": {
          "base_uri": "https://localhost:8080/"
        },
        "outputId": "7e514542-3786-483a-bf28-e36314caa464"
      },
      "outputs": [
        {
          "output_type": "stream",
          "name": "stdout",
          "text": [
            "[2, 3, 5, 7, 11, 13, 17, 19]\n"
          ]
        }
      ],
      "source": [
        "# Función con lógica: primo\n",
        "def es_primo(p: int) -> bool:\n",
        "    if p < 2:\n",
        "        return False\n",
        "    for d in range(2, int(p**0.5) + 1):\n",
        "        if p % d == 0:\n",
        "            return False\n",
        "    return True\n",
        "\n",
        "print([n for n in range(1, 20) if es_primo(n)])"
      ]
    },
    {
      "cell_type": "markdown",
      "id": "deb1aa46",
      "metadata": {
        "id": "deb1aa46"
      },
      "source": [
        "\n",
        "### 🧪 Ejercicios de funciones\n",
        "1) `suma(a, b)`: devuelve la suma.  \n",
        "2) `mayor_de_tres(a,b,c)`: devuelve el mayor.  \n",
        "3) `area_circulo(r)`: usa `math.pi`.  \n",
        "4) `normaliza_nombre(txt)`: quita espacios (`strip`), pone **mayúscula** la primera letra y **minúsculas** el resto.\n"
      ]
    },
    {
      "cell_type": "code",
      "execution_count": null,
      "id": "ecd4b956",
      "metadata": {
        "id": "ecd4b956"
      },
      "outputs": [],
      "source": [
        "#ejercicios de funciones\n",
        "def suma (a,b):\n",
        "  resultado= a+b\n",
        "  return resultado"
      ]
    },
    {
      "cell_type": "code",
      "source": [
        "suma(20,30)"
      ],
      "metadata": {
        "colab": {
          "base_uri": "https://localhost:8080/"
        },
        "id": "q1X7S6f1oCFT",
        "outputId": "e4cc117b-705f-4414-e5c5-20d906104f82"
      },
      "id": "q1X7S6f1oCFT",
      "execution_count": null,
      "outputs": [
        {
          "output_type": "execute_result",
          "data": {
            "text/plain": [
              "50"
            ]
          },
          "metadata": {},
          "execution_count": 11
        }
      ]
    },
    {
      "cell_type": "code",
      "source": [
        "def mayor (a,b,c):\n",
        "  return max(a,b,c)\n"
      ],
      "metadata": {
        "id": "FJIXmdSZoLOx"
      },
      "id": "FJIXmdSZoLOx",
      "execution_count": null,
      "outputs": []
    },
    {
      "cell_type": "code",
      "source": [
        "mayor(2,2,1)"
      ],
      "metadata": {
        "colab": {
          "base_uri": "https://localhost:8080/"
        },
        "id": "2k1vpHs0pXoa",
        "outputId": "b40551f7-cdcc-49bd-9e8f-7d2f7a1d1767"
      },
      "id": "2k1vpHs0pXoa",
      "execution_count": null,
      "outputs": [
        {
          "output_type": "execute_result",
          "data": {
            "text/plain": [
              "2"
            ]
          },
          "metadata": {},
          "execution_count": 13
        }
      ]
    },
    {
      "cell_type": "code",
      "source": [
        "import math"
      ],
      "metadata": {
        "id": "xJ2RpQPhqJ4a"
      },
      "id": "xJ2RpQPhqJ4a",
      "execution_count": null,
      "outputs": []
    },
    {
      "cell_type": "code",
      "source": [
        "def areaC(r):\n",
        "  loquesea=math.pi * r**2\n",
        "  return loquesea"
      ],
      "metadata": {
        "id": "v3A9luBZpwkg"
      },
      "id": "v3A9luBZpwkg",
      "execution_count": null,
      "outputs": []
    },
    {
      "cell_type": "code",
      "source": [
        "areaC(3)"
      ],
      "metadata": {
        "colab": {
          "base_uri": "https://localhost:8080/"
        },
        "id": "Qen1hnRUqCY-",
        "outputId": "3a04d7a0-a3b9-4efd-8848-f5c24b3e8f36"
      },
      "id": "Qen1hnRUqCY-",
      "execution_count": null,
      "outputs": [
        {
          "output_type": "execute_result",
          "data": {
            "text/plain": [
              "28.274333882308138"
            ]
          },
          "metadata": {},
          "execution_count": 18
        }
      ]
    },
    {
      "cell_type": "code",
      "source": [
        "def normaliza_nombre(txt):\n",
        "  nommbreSinEspacios=txt.strip()\n",
        "  nombreFinal=nommbreSinEspacios.title()\n",
        "  return nombreFinal"
      ],
      "metadata": {
        "id": "_TtAVDf3rjUR"
      },
      "id": "_TtAVDf3rjUR",
      "execution_count": null,
      "outputs": []
    },
    {
      "cell_type": "code",
      "source": [
        "normaliza_nombre(\" MARIA PAULA GOMEZ  \")"
      ],
      "metadata": {
        "colab": {
          "base_uri": "https://localhost:8080/",
          "height": 35
        },
        "id": "ZVbwLwURsCds",
        "outputId": "adf3e666-afdb-4262-9fc2-baed2e8ab3c2"
      },
      "id": "ZVbwLwURsCds",
      "execution_count": null,
      "outputs": [
        {
          "output_type": "execute_result",
          "data": {
            "text/plain": [
              "'Maria Paula Gomez'"
            ],
            "application/vnd.google.colaboratory.intrinsic+json": {
              "type": "string"
            }
          },
          "metadata": {},
          "execution_count": 24
        }
      ]
    },
    {
      "cell_type": "markdown",
      "id": "1388e288",
      "metadata": {
        "id": "1388e288"
      },
      "source": [
        "\n",
        "---\n",
        "## 8) Retos integradores\n"
      ]
    },
    {
      "cell_type": "markdown",
      "id": "558736a2",
      "metadata": {
        "id": "558736a2"
      },
      "source": [
        "\n",
        "### 🔷 Reto A: Agenda simple (diccionario + funciones)\n",
        "- Crea un diccionario `agenda = {}`.\n",
        "- Funciones: `agregar(nombre, telefono)`, `buscar(nombre)`, `listar()`.\n",
        "- Usa un bucle para mostrar menú (1 agregar, 2 buscar, 3 listar, 4 salir).\n"
      ]
    },
    {
      "cell_type": "code",
      "execution_count": null,
      "id": "791af0b3",
      "metadata": {
        "id": "791af0b3"
      },
      "outputs": [],
      "source": [
        "agenda = {}"
      ]
    },
    {
      "cell_type": "code",
      "source": [
        "#creazmos la funcion de agregar\n",
        "def agregar(nombre, telefono):\n",
        "  agenda[nombre]=telefono\n",
        "  print(f\"contacto {nombre} agregado\")"
      ],
      "metadata": {
        "id": "semIWnveuiqi"
      },
      "id": "semIWnveuiqi",
      "execution_count": null,
      "outputs": []
    },
    {
      "cell_type": "code",
      "source": [
        "def buscar(nombre):\n",
        "  if nombre in agenda:\n",
        "    print(f\" {nombre}:{agenda[nombre]}\")\n",
        "  else:\n",
        "    print(\"no existe\")"
      ],
      "metadata": {
        "id": "rvGYYAFuvAOA"
      },
      "id": "rvGYYAFuvAOA",
      "execution_count": null,
      "outputs": []
    },
    {
      "cell_type": "code",
      "source": [
        "def listar():\n",
        "  if not agenda:\n",
        "    print(\"la agenda esta vacia\")\n",
        "  else:\n",
        "    print(\"contactos almacenados\")\n",
        "    for nombre, telefono in agenda.items():\n",
        "      print(f\"   {nombre}: {telefono}\")"
      ],
      "metadata": {
        "id": "oKrYGjaDvnx3"
      },
      "id": "oKrYGjaDvnx3",
      "execution_count": null,
      "outputs": []
    },
    {
      "cell_type": "code",
      "source": [
        "while True:\n",
        "  print(\"Agenda Simple\")\n",
        "  print(\"1.Agreegar\")\n",
        "  print(\"2.Buscar\")\n",
        "  print(\"3.Listar\")\n",
        "  print(\"4.Salir\")\n",
        "  opcion=input(\"elige una opcion\")\n",
        "\n",
        "  if opcion==\"1\":\n",
        "    nombre=input(\"ingrese el nombre  \")\n",
        "    telefono=input(\"ingrese el numero de telefono  \")\n",
        "    agregar(nombre, telefono)\n",
        "  elif opcion==\"2\":\n",
        "    nombre=input(\"ingrese el nombrea buscar \")\n",
        "    buscar(nombre)\n",
        "  elif opcion==\"3\":\n",
        "    listar()\n",
        "  elif opcion==\"4\":\n",
        "    print(\"chao adios\")\n",
        "    break\n",
        "  else:\n",
        "    print(\"opcion invalida\")\n"
      ],
      "metadata": {
        "colab": {
          "base_uri": "https://localhost:8080/"
        },
        "id": "fvXptGfQwVy0",
        "outputId": "e8f791d3-df12-43a4-d245-1b872e925bab"
      },
      "id": "fvXptGfQwVy0",
      "execution_count": null,
      "outputs": [
        {
          "output_type": "stream",
          "name": "stdout",
          "text": [
            "Agenda Simple\n",
            "1.Agreegar\n",
            "2.Buscar\n",
            "3.Listar\n",
            "4.Salir\n",
            "elige una opcion1\n",
            "ingrese el nombre  MAria\n",
            "ingrese el numero de telefono  12345\n",
            "contacto MAria agregado\n",
            "Agenda Simple\n",
            "1.Agreegar\n",
            "2.Buscar\n",
            "3.Listar\n",
            "4.Salir\n",
            "elige una opcion1\n",
            "ingrese el nombre   jose perez\n",
            "ingrese el numero de telefono  32456\n",
            "contacto  jose perez agregado\n",
            "Agenda Simple\n",
            "1.Agreegar\n",
            "2.Buscar\n",
            "3.Listar\n",
            "4.Salir\n",
            "elige una opcion2\n",
            "ingrese el nombrea buscar MAria\n",
            " MAria:12345\n",
            "Agenda Simple\n",
            "1.Agreegar\n",
            "2.Buscar\n",
            "3.Listar\n",
            "4.Salir\n",
            "elige una opcion3\n",
            "contactos almacenados\n",
            "   MAria: 12345\n",
            "    jose perez: 32456\n",
            "Agenda Simple\n",
            "1.Agreegar\n",
            "2.Buscar\n",
            "3.Listar\n",
            "4.Salir\n",
            "elige una opcion4\n",
            "chao adios\n"
          ]
        }
      ]
    },
    {
      "cell_type": "markdown",
      "id": "b5f8d52b",
      "metadata": {
        "id": "b5f8d52b"
      },
      "source": [
        "\n",
        "### 🔷 Reto B: Calculadora de notas (listas + condicionales + funciones)\n",
        "- Pide una lista de notas (0–5).\n",
        "- Función `promedio(lista)`.\n",
        "- Muestra estado: Excelente (>=4.5), Aprobado (>=3.0), No aprobado.\n"
      ]
    },
    {
      "cell_type": "code",
      "execution_count": null,
      "id": "24a9c1ed",
      "metadata": {
        "id": "24a9c1ed"
      },
      "outputs": [],
      "source": []
    }
  ],
  "metadata": {
    "colab": {
      "provenance": [],
      "include_colab_link": true
    },
    "language_info": {
      "name": "python"
    },
    "kernelspec": {
      "name": "python3",
      "display_name": "Python 3"
    }
  },
  "nbformat": 4,
  "nbformat_minor": 5
}