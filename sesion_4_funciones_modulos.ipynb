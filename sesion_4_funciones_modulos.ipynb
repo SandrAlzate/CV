{
  "cells": [
    {
      "cell_type": "markdown",
      "metadata": {
        "id": "view-in-github",
        "colab_type": "text"
      },
      "source": [
        "<a href=\"https://colab.research.google.com/github/SandrAlzate/CV/blob/master/sesion_4_funciones_modulos.ipynb\" target=\"_parent\"><img src=\"https://colab.research.google.com/assets/colab-badge.svg\" alt=\"Open In Colab\"/></a>"
      ]
    },
    {
      "cell_type": "markdown",
      "id": "293dd226",
      "metadata": {
        "id": "293dd226"
      },
      "source": [
        "\n",
        "# 📘 Sesión 4 – Funciones y Módulos en Python\n",
        "\n",
        "En esta sesión aprenderás:\n",
        "1. ¿Qué es una función? Creación y uso.\n",
        "2. Uso de módulos estándar: **datetime**.\n",
        "\n",
        "---\n"
      ]
    },
    {
      "cell_type": "markdown",
      "id": "5e853db8",
      "metadata": {
        "id": "5e853db8"
      },
      "source": [
        "\n",
        "## 🔹 1. ¿Qué es una función?\n",
        "Una **función** es un bloque de código reutilizable que realiza una tarea específica.\n",
        "\n",
        "### Sintaxis\n",
        "```python\n",
        "def nombre_funcion(parametros):\n",
        "    # Bloque de código\n",
        "    return resultado\n",
        "```\n"
      ]
    },
    {
      "cell_type": "code",
      "execution_count": null,
      "id": "f7d0ea75",
      "metadata": {
        "id": "f7d0ea75"
      },
      "outputs": [],
      "source": [
        "# Ejemplo: función con parámetro y retorno\n",
        "def saludar(nombre):\n",
        "    return f\"Hola, {nombre}!\""
      ]
    },
    {
      "cell_type": "code",
      "source": [
        "print(saludar(\"Fidias\"))"
      ],
      "metadata": {
        "colab": {
          "base_uri": "https://localhost:8080/"
        },
        "id": "8mbz8vmI3yGL",
        "outputId": "a632d11d-2ca2-4087-a60e-3d71601a4d19"
      },
      "id": "8mbz8vmI3yGL",
      "execution_count": null,
      "outputs": [
        {
          "output_type": "stream",
          "name": "stdout",
          "text": [
            "Hola, Fidias!\n"
          ]
        }
      ]
    },
    {
      "cell_type": "markdown",
      "id": "3fd92df5",
      "metadata": {
        "id": "3fd92df5"
      },
      "source": [
        "\n",
        "## 🔹 2. Creación y uso de funciones\n",
        "Las funciones ayudan a **organizar código**, **evitar repeticiones** y **mejorar la legibilidad**.\n"
      ]
    },
    {
      "cell_type": "code",
      "execution_count": null,
      "id": "767e33d1",
      "metadata": {
        "id": "767e33d1"
      },
      "outputs": [],
      "source": [
        "# Ejercicio 1: función suma\n",
        "def suma(a, b):\n",
        "  #sumar = a + b\n",
        "  return a + b #sumar"
      ]
    },
    {
      "cell_type": "code",
      "source": [
        "print(suma(3, 4))"
      ],
      "metadata": {
        "colab": {
          "base_uri": "https://localhost:8080/"
        },
        "id": "Hon4iDb45mJE",
        "outputId": "1cd469fa-a6e9-44ad-c6c3-5488d00e0216"
      },
      "id": "Hon4iDb45mJE",
      "execution_count": null,
      "outputs": [
        {
          "output_type": "stream",
          "name": "stdout",
          "text": [
            "7\n"
          ]
        }
      ]
    },
    {
      "cell_type": "code",
      "source": [
        "def multiplicar (a, b):\n",
        "  return a * b\n",
        "\n",
        "print(multiplicar(3, 4))"
      ],
      "metadata": {
        "colab": {
          "base_uri": "https://localhost:8080/"
        },
        "id": "b9wFQHm_6MYW",
        "outputId": "4e184ed5-e368-474d-fb5f-78c5a79b623b"
      },
      "id": "b9wFQHm_6MYW",
      "execution_count": null,
      "outputs": [
        {
          "output_type": "stream",
          "name": "stdout",
          "text": [
            "12\n"
          ]
        }
      ]
    },
    {
      "cell_type": "code",
      "source": [
        "def multi(a,b):\n",
        "  multi = a * b\n",
        "  return multi\n",
        "\n",
        "print(multi(2,3))"
      ],
      "metadata": {
        "colab": {
          "base_uri": "https://localhost:8080/"
        },
        "id": "aqkkWcuZ6c4y",
        "outputId": "e5d280ca-dbb5-4a9e-93dc-acfdc2e9d6dc"
      },
      "id": "aqkkWcuZ6c4y",
      "execution_count": null,
      "outputs": [
        {
          "output_type": "stream",
          "name": "stdout",
          "text": [
            "None\n"
          ]
        }
      ]
    },
    {
      "cell_type": "code",
      "source": [
        "def convertir_a_dolares(cop):\n",
        "    tasa = 3862  # tasa fija COP -> USD\n",
        "    return cop / tasa"
      ],
      "metadata": {
        "id": "h20v3fIW8Vl1"
      },
      "id": "h20v3fIW8Vl1",
      "execution_count": null,
      "outputs": []
    },
    {
      "cell_type": "code",
      "source": [
        "pesos = float(input(\"Ingrese la cantidad en Pesos Colombianos : \"))\n",
        "\n",
        "usd = convertir_a_dolares(pesos)\n",
        "print(f\"Equivale a USD: {usd:,.2f}\")"
      ],
      "metadata": {
        "colab": {
          "base_uri": "https://localhost:8080/"
        },
        "id": "alQb00l78bAT",
        "outputId": "dab6ad9d-8e8c-4953-f2ff-597b51a0672f"
      },
      "id": "alQb00l78bAT",
      "execution_count": null,
      "outputs": [
        {
          "output_type": "stream",
          "name": "stdout",
          "text": [
            "Ingrese la cantidad en Pesos Colombianos : 400000\n",
            "Equivale a USD: 103.57\n"
          ]
        }
      ]
    },
    {
      "cell_type": "code",
      "execution_count": null,
      "id": "8df43cbe",
      "metadata": {
        "id": "8df43cbe"
      },
      "outputs": [],
      "source": [
        "# Ejercicio 2: función es_par\n",
        "def es_par(n):\n",
        "    return n % 2 == 0\n"
      ]
    },
    {
      "cell_type": "code",
      "source": [
        "print(es_par(4))  # True\n",
        "print(es_par(7))  # Fals"
      ],
      "metadata": {
        "colab": {
          "base_uri": "https://localhost:8080/"
        },
        "id": "M0P0cyFZ6S8q",
        "outputId": "120f7930-f088-4a15-ce1f-ffcb0c62b725"
      },
      "id": "M0P0cyFZ6S8q",
      "execution_count": null,
      "outputs": [
        {
          "output_type": "stream",
          "name": "stdout",
          "text": [
            "True\n",
            "False\n"
          ]
        }
      ]
    },
    {
      "cell_type": "markdown",
      "id": "8501e5b1",
      "metadata": {
        "id": "8501e5b1"
      },
      "source": [
        "\n",
        "## 🔹 3. Uso de módulos estándar en Python\n",
        "\n",
        "### a) Módulo `datetime`\n",
        "Permite trabajar con fechas y horas.\n"
      ]
    },
    {
      "cell_type": "code",
      "execution_count": null,
      "id": "237e4250",
      "metadata": {
        "id": "237e4250"
      },
      "outputs": [],
      "source": [
        "import datetime"
      ]
    },
    {
      "cell_type": "code",
      "source": [
        "# Fecha y hora actual\n",
        "ahora = datetime.datetime.now()\n",
        "print(\"Fecha y hora:\", ahora)\n"
      ],
      "metadata": {
        "colab": {
          "base_uri": "https://localhost:8080/"
        },
        "id": "8fIj6MabAN4-",
        "outputId": "a6d3297a-e22d-4cf1-ff6e-e5d6a21bf8ce"
      },
      "id": "8fIj6MabAN4-",
      "execution_count": null,
      "outputs": [
        {
          "output_type": "stream",
          "name": "stdout",
          "text": [
            "Fecha y hora: 2025-09-23 23:55:59.743850\n"
          ]
        }
      ]
    },
    {
      "cell_type": "code",
      "source": [
        "# Solo fecha actual\n",
        "hoy = datetime.date.today()\n",
        "print(\"Hoy es:\", hoy)"
      ],
      "metadata": {
        "colab": {
          "base_uri": "https://localhost:8080/"
        },
        "id": "9wM1A8kXAP0l",
        "outputId": "8e8a58fe-96d5-4802-aada-e80449572f30"
      },
      "id": "9wM1A8kXAP0l",
      "execution_count": null,
      "outputs": [
        {
          "output_type": "stream",
          "name": "stdout",
          "text": [
            "Hoy es: 2025-09-23\n"
          ]
        }
      ]
    },
    {
      "cell_type": "code",
      "source": [
        "# Crear una fecha específica\n",
        "cumple = datetime.date(2025, 9, 23)\n",
        "print(\"Cumpleaños:\", cumple)"
      ],
      "metadata": {
        "colab": {
          "base_uri": "https://localhost:8080/"
        },
        "id": "GAIa4DY9ARvk",
        "outputId": "3982279e-5fdf-46b2-b355-00607b35c34c"
      },
      "id": "GAIa4DY9ARvk",
      "execution_count": null,
      "outputs": [
        {
          "output_type": "stream",
          "name": "stdout",
          "text": [
            "Cumpleaños: 2025-09-23\n"
          ]
        }
      ]
    },
    {
      "cell_type": "code",
      "execution_count": null,
      "id": "fe853c09",
      "metadata": {
        "id": "fe853c09",
        "colab": {
          "base_uri": "https://localhost:8080/"
        },
        "outputId": "16ce754e-256e-4b35-8a7f-401c69d41e07"
      },
      "outputs": [
        {
          "output_type": "stream",
          "name": "stdout",
          "text": [
            "Días para fin de año: 98\n"
          ]
        }
      ],
      "source": [
        "# Ejercicio 4: calcular días hasta una fecha\n",
        "import datetime\n",
        "\n",
        "def dias_para(fecha_final):\n",
        "    hoy = datetime.date.today()\n",
        "    diferencia = fecha_final - hoy\n",
        "    return diferencia.days\n",
        "\n",
        "fin_de_año = datetime.date(2025, 12, 31)\n",
        "print(\"Días para fin de año:\", dias_para(fin_de_año))"
      ]
    },
    {
      "cell_type": "markdown",
      "id": "488b5eed",
      "metadata": {
        "id": "488b5eed"
      },
      "source": [
        "\n",
        "# 📊 Resumen de la sesión\n",
        "- **Funciones**: bloques de código reutilizables (`def`).  \n",
        "- **math**: operaciones matemáticas avanzadas (`sqrt`, `pi`, `factorial`).  \n",
        "- **datetime**: manejo de fechas y horas (`today()`, `now()`, diferencias de días).  \n",
        "\n",
        "👉 Ahora intenta **crear tus propias funciones** que combinen estos módulos.\n"
      ]
    }
  ],
  "metadata": {
    "colab": {
      "provenance": [],
      "include_colab_link": true
    },
    "language_info": {
      "name": "python"
    },
    "kernelspec": {
      "name": "python3",
      "display_name": "Python 3"
    }
  },
  "nbformat": 4,
  "nbformat_minor": 5
}