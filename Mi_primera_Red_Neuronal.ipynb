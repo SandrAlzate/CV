{
  "nbformat": 4,
  "nbformat_minor": 0,
  "metadata": {
    "colab": {
      "provenance": [],
      "include_colab_link": true
    },
    "kernelspec": {
      "name": "python3",
      "display_name": "Python 3"
    },
    "language_info": {
      "name": "python"
    }
  },
  "cells": [
    {
      "cell_type": "markdown",
      "metadata": {
        "id": "view-in-github",
        "colab_type": "text"
      },
      "source": [
        "<a href=\"https://colab.research.google.com/github/SandrAlzate/CV/blob/master/Mi_primera_Red_Neuronal.ipynb\" target=\"_parent\"><img src=\"https://colab.research.google.com/assets/colab-badge.svg\" alt=\"Open In Colab\"/></a>"
      ]
    },
    {
      "cell_type": "code",
      "execution_count": null,
      "metadata": {
        "id": "CIKNQOvpf4ba"
      },
      "outputs": [],
      "source": [
        "import tensorflow as tf\n",
        "import numpy as np\n",
        "import matplotlib.pyplot as plt"
      ]
    },
    {
      "cell_type": "code",
      "source": [
        "celsius = np.array([-40, -10, -0, 8, 15, 22, 38, -20], dtype=float)\n",
        "fahreheit = np.array([-40, 14, 32, 46, 59, 72, 100, -4], dtype=float)"
      ],
      "metadata": {
        "id": "LdxiuNACgrF_"
      },
      "execution_count": null,
      "outputs": []
    },
    {
      "cell_type": "code",
      "source": [
        "# Entradas de caracteristicas\n",
        "entrada = tf.keras.Input(shape=(1,))"
      ],
      "metadata": {
        "id": "MAPZffvkhdjy"
      },
      "execution_count": null,
      "outputs": []
    },
    {
      "cell_type": "code",
      "source": [
        "# Capa y Modelo y = w*x + b\n",
        "capa_linial = tf.keras.layers.Dense(units=1, name=\"regresor\")\n",
        "salida = capa_linial(entrada)\n",
        "modelo = tf.keras.Model(inputs=entrada, outputs=salida)"
      ],
      "metadata": {
        "id": "tlga2kJFiUiH"
      },
      "execution_count": null,
      "outputs": []
    },
    {
      "cell_type": "code",
      "source": [
        "# Compilación\n",
        "modelo.compile(optimizer=tf.keras.optimizers.Adam(0.1), loss=\"mean_squared_error\")"
      ],
      "metadata": {
        "id": "zBoG05puj5gg"
      },
      "execution_count": null,
      "outputs": []
    },
    {
      "cell_type": "code",
      "source": [
        "# Entrenamiento\n",
        "print(\"Comenzando Entrenamiento\")\n",
        "historial = modelo.fit(celsius, fahreheit, epochs=1000, verbose=False)\n",
        "print(\"Termino entrenamiento\")"
      ],
      "metadata": {
        "colab": {
          "base_uri": "https://localhost:8080/"
        },
        "id": "bw574c2Wlw0r",
        "outputId": "17d63600-0ec3-467e-cfb5-0ed157e75745"
      },
      "execution_count": null,
      "outputs": [
        {
          "output_type": "stream",
          "name": "stdout",
          "text": [
            "Comenzando Entrenamiento\n",
            "Termino entrenamiento\n"
          ]
        }
      ]
    },
    {
      "cell_type": "code",
      "source": [
        "#Graficar\n",
        "plt.xlabel(\"#Época\")\n",
        "plt.ylabel(\"Magnitudes de perdidas\")\n",
        "plt.plot(historial.history[\"loss\"])\n",
        "plt.show()"
      ],
      "metadata": {
        "colab": {
          "base_uri": "https://localhost:8080/",
          "height": 451
        },
        "id": "6b4o4ue-msam",
        "outputId": "0cd43cc9-cd0e-49fd-ba9d-eb4e44c9d77a"
      },
      "execution_count": null,
      "outputs": [
        {
          "output_type": "display_data",
          "data": {
            "text/plain": [
              "<Figure size 640x480 with 1 Axes>"
            ],
            "image/png": "[encoded data removed]"
          },
          "metadata": {}
        }
      ]
    },
    {
      "cell_type": "code",
      "source": [
        "# Predicción\n",
        "print(\"Hagamos una predicción\")\n",
        "resultado = modelo.predict(np.array([[100.0]]))\n",
        "print(\"El resultado es: \", resultado[0][0], \"fahrenheit\")"
      ],
      "metadata": {
        "colab": {
          "base_uri": "https://localhost:8080/"
        },
        "id": "iqkaOOphp_Cr",
        "outputId": "f10a8ca8-95be-48a6-cbfa-4666c78da649"
      },
      "execution_count": null,
      "outputs": [
        {
          "output_type": "stream",
          "name": "stdout",
          "text": [
            "Hagamos una predicción\n",
            "\u001b[1m1/1\u001b[0m \u001b[32m━━━━━━━━━━━━━━━━━━━━\u001b[0m\u001b[37m\u001b[0m \u001b[1m0s\u001b[0m 49ms/step\n",
            "El resultado es:  211.7297 fahrenheit\n"
          ]
        }
      ]
    },
    {
      "cell_type": "code",
      "source": [
        "w,b = capa_linial.get_weights()\n",
        "print(\"Peso (w)\", w[0][0])\n",
        "print(\"Sesgo (b)\", b[0])"
      ],
      "metadata": {
        "colab": {
          "base_uri": "https://localhost:8080/"
        },
        "id": "NFyU682xqmgz",
        "outputId": "0f590fb7-a568-461a-bfbd-11406d3b1802"
      },
      "execution_count": null,
      "outputs": [
        {
          "output_type": "stream",
          "name": "stdout",
          "text": [
            "Peso (w) 1.7979834\n",
            "Sesgo (b) 31.931368\n"
          ]
        }
      ]
    },
    {
      "cell_type": "code",
      "source": [
        "# f = c * 1.8 + 32\n",
        "# y = w*x + b"
      ],
      "metadata": {
        "id": "DIaNWWIVrV_C"
      },
      "execution_count": null,
      "outputs": []
    }
  ]
}