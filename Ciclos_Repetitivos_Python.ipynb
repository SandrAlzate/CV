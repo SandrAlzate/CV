{
  "cells": [
    {
      "cell_type": "markdown",
      "metadata": {
        "id": "view-in-github",
        "colab_type": "text"
      },
      "source": [
        "<a href=\"https://colab.research.google.com/github/SandrAlzate/CV/blob/master/Ciclos_Repetitivos_Python.ipynb\" target=\"_parent\"><img src=\"https://colab.research.google.com/assets/colab-badge.svg\" alt=\"Open In Colab\"/></a>"
      ]
    },
    {
      "cell_type": "markdown",
      "id": "6bd5b55a",
      "metadata": {
        "id": "6bd5b55a"
      },
      "source": [
        "\n",
        "# 📘 Clase: Ciclos Repetitivos en Python\n",
        "\n",
        "**Nivel:** Principiante – Intermedio  \n",
        "\n",
        "## 🎯 Objetivos de aprendizaje\n",
        "Al finalizar esta clase, el estudiante será capaz de:\n",
        "- Comprender qué son los ciclos repetitivos en Python y cuándo utilizarlos.\n",
        "- Usar correctamente el ciclo `while` y el ciclo `for` en ejemplos prácticos.\n",
        "- Aplicar sentencias de control (`break`, `continue`, `else`) en bucles.\n",
        "- Resolver problemas mediante la implementación de ciclos.\n",
        "- Desarrollar pensamiento algorítmico aplicando iteraciones.\n",
        "\n",
        "---\n"
      ]
    },
    {
      "cell_type": "markdown",
      "id": "1dbbc454",
      "metadata": {
        "id": "1dbbc454"
      },
      "source": [
        "\n",
        "# 📘 Ciclos Repetitivos en Python\n",
        "\n",
        "\n",
        "**Objetivo:** Comprender y aplicar los ciclos `while` y `for`, además de las sentencias `break`, `continue` y la cláusula `else` en bucles, mediante ejemplos y ejercicios prácticos.\n",
        "\n",
        "**Duración sugerida:** 2 horas  \n",
        "**Pre-requisito:** Conocer variables, tipos de datos, y condicionales básicos (`if`).\n"
      ]
    },
    {
      "cell_type": "markdown",
      "id": "0118ddd1",
      "metadata": {
        "id": "0118ddd1"
      },
      "source": [
        "\n",
        "## 📍 ¿Qué es un ciclo repetitivo?\n",
        "Un **ciclo** permite ejecutar un bloque de código varias veces. En Python tenemos dos principales:\n",
        "\n",
        "1. **`while`** → se ejecuta **mientras** una condición sea `True`.\n",
        "2. **`for`** → recorre una **secuencia** (lista, tupla, cadena, diccionario, rango, etc.).\n",
        "\n",
        "Sentencias de control útiles:\n",
        "- **`break`**: rompe el ciclo inmediatamente.\n",
        "- **`continue`**: salta a la **siguiente iteración**.\n",
        "- **`else` en bucles**: se ejecuta cuando el bucle **termina sin `break`**.\n"
      ]
    },
    {
      "cell_type": "markdown",
      "id": "95d77bdd",
      "metadata": {
        "id": "95d77bdd"
      },
      "source": [
        "\n",
        "---\n",
        "## 🔄 Ciclo `while`\n",
        "### Sintaxis\n",
        "```python\n",
        "while condicion:\n",
        "    # bloque que se repite mientras la condicion sea True\n",
        "    # actualizar variables para evitar bucles infinitos\n",
        "```\n",
        "**Regla de oro:** asegúrate de que la condición cambie en cada iteración; de lo contrario, tendrás un **bucle infinito**.\n"
      ]
    },
    {
      "cell_type": "code",
      "execution_count": null,
      "id": "0dac1cec",
      "metadata": {
        "colab": {
          "base_uri": "https://localhost:8080/"
        },
        "id": "0dac1cec",
        "outputId": "74827d20-cacc-4f21-8799-822f417f7e31"
      },
      "outputs": [
        {
          "output_type": "stream",
          "name": "stdout",
          "text": [
            "Número: 0\n",
            "Número: 1\n",
            "Número: 2\n",
            "Número: 3\n",
            "Número: 4\n"
          ]
        }
      ],
      "source": [
        "# Ejemplo 1: Contar del 1 al 5 con while\n",
        "contador = 0\n",
        "while contador < 5:\n",
        "    print(\"Número:\", contador)\n",
        "    contador += 1"
      ]
    },
    {
      "cell_type": "code",
      "execution_count": null,
      "id": "f766b75d",
      "metadata": {
        "colab": {
          "base_uri": "https://localhost:8080/"
        },
        "id": "f766b75d",
        "outputId": "145deec0-5077-44c9-ed01-4b417a0d25ba"
      },
      "outputs": [
        {
          "output_type": "stream",
          "name": "stdout",
          "text": [
            "Ingresa números para sumarlos. Escribe 0 para terminar.\n",
            "Número: r\n",
            "❗ Ingresa un número válido.\n",
            "Número: 4\n",
            "Número: 3\n",
            "Número: 0\n",
            "Total: 7\n"
          ]
        }
      ],
      "source": [
        "# Ejemplo 2: Suma acumulada hasta que el usuario ingresa 0\n",
        "print(\"Ingresa números para sumarlos. Escribe 0 para terminar.\")\n",
        "total = 0\n",
        "n = None\n",
        "while n != 0:\n",
        "    try:\n",
        "        n = int(input(\"Número: \"))\n",
        "        total += n\n",
        "    except ValueError:\n",
        "        print(\"❗ Ingresa un número válido.\")\n",
        "print(\"Total:\", total)"
      ]
    },
    {
      "cell_type": "markdown",
      "id": "d78927a5",
      "metadata": {
        "id": "d78927a5"
      },
      "source": [
        "\n",
        "### 🧪 Ejercicios guiados con `while`\n",
        "1. **Contador personalizado**: pide un número `n` y cuenta desde `1` hasta `n` con `while`.\n",
        "2. **Validador de contraseña**: solicita una contraseña hasta que el usuario ingrese la correcta (por ejemplo `\"python123\"`).  \n",
        "3. **Adivina el número** (opcional): genera un número entre 1 y 10 e intenta adivinarlo con `while`.\n"
      ]
    },
    {
      "cell_type": "code",
      "execution_count": null,
      "id": "85d9ca32",
      "metadata": {
        "id": "85d9ca32"
      },
      "outputs": [],
      "source": [
        "# ✍️ Ejercicio 1 (espacio de trabajo): Contador personalizado con while\n",
        "# Pide un número n y cuenta desde 1 hasta n.\n",
        "# Escribe tu solución aquí:\n",
        "\n",
        "n = 5  # cambia por input si quieres: int(input(\"Ingresa n: \"))\n",
        "i = 1\n",
        "while i <= n:\n",
        "    print(i)\n",
        "    i += 1"
      ]
    },
    {
      "cell_type": "code",
      "execution_count": null,
      "id": "1bbed204",
      "metadata": {
        "id": "1bbed204"
      },
      "outputs": [],
      "source": [
        "# ✍️ Ejercicio 2 (espacio de trabajo): Validador de contraseña\n",
        "# Pide contraseñas hasta que el usuario ingrese 'python123'. Muestra intentos.\n",
        "# Escribe tu solución aquí:\n",
        "\n",
        "PASSWORD = \"python123\"\n",
        "entrada = \"\"\n",
        "intentos = 0\n",
        "while entrada != PASSWORD:\n",
        "    # entrada = input(\"Contraseña: \")\n",
        "    entrada = \"python123\"  # reemplaza por input si deseas probar interactivamente\n",
        "    intentos += 1\n",
        "print(\"✅ Acceso concedido en\", intentos, \"intentos.\")"
      ]
    },
    {
      "cell_type": "markdown",
      "id": "52e2ed2e",
      "metadata": {
        "id": "52e2ed2e"
      },
      "source": [
        "\n",
        "---\n",
        "## 🔁 Ciclo `for`\n",
        "### Sintaxis\n",
        "```python\n",
        "for variable in secuencia:\n",
        "    # bloque a ejecutar por cada elemento\n",
        "```\n",
        "\n",
        "### `range()` para secuencias de enteros\n",
        "`range(inicio, fin, paso)` genera enteros desde `inicio` hasta **fin-1** en pasos de `paso` (por defecto 1).\n"
      ]
    },
    {
      "cell_type": "code",
      "execution_count": null,
      "id": "34eea2ef",
      "metadata": {
        "id": "34eea2ef"
      },
      "outputs": [],
      "source": [
        "# Ejemplo 3: for + range\n",
        "for i in range(1, 6):  # 1,2,3,4,5\n",
        "    print(\"Número:\", i)"
      ]
    },
    {
      "cell_type": "code",
      "execution_count": null,
      "id": "01f22c61",
      "metadata": {
        "id": "01f22c61"
      },
      "outputs": [],
      "source": [
        "# Ejemplo 4: recorrer distintas secuencias\n",
        "frutas = [\"manzana\", \"pera\", \"naranja\"]\n",
        "palabra = \"Python\"\n",
        "precios = {\"manzana\": 1800, \"pera\": 1700, \"naranja\": 1600}\n",
        "\n",
        "print(\"Lista:\")\n",
        "for fruta in frutas:\n",
        "    print(\"Me gusta la\", fruta)\n",
        "\n",
        "print(\"\\nCadena:\")\n",
        "for letra in palabra:\n",
        "    print(letra, end=\" \")\n",
        "\n",
        "print(\"\\n\\nDiccionario (claves y valores):\")\n",
        "for fruta, precio in precios.items():\n",
        "    print(fruta, \"→\", precio)"
      ]
    },
    {
      "cell_type": "markdown",
      "id": "653e0035",
      "metadata": {
        "id": "653e0035"
      },
      "source": [
        "\n",
        "### 🧪 Ejercicios guiados con `for`\n",
        "4. **Tabla del 7**: imprime la tabla de multiplicar del 7 del 1 al 10.  \n",
        "5. **Letras**: recorre una palabra (por ejemplo `\"Programación\"`) y muestra cada letra.  \n",
        "6. **Promedio**: dada una lista de notas `[3.5, 4.0, 2.8, 5.0, 4.2]`, calcula el promedio con `for`.\n"
      ]
    },
    {
      "cell_type": "code",
      "execution_count": null,
      "id": "0407b6b7",
      "metadata": {
        "id": "0407b6b7"
      },
      "outputs": [],
      "source": [
        "# ✍️ Ejercicio 4 (espacio de trabajo): Tabla del 7\n",
        "for i in range(1, 11):\n",
        "    print(f\"7 x {i} = {7*i}\")"
      ]
    },
    {
      "cell_type": "code",
      "execution_count": null,
      "id": "04e189c3",
      "metadata": {
        "id": "04e189c3"
      },
      "outputs": [],
      "source": [
        "# ✍️ Ejercicio 5 (espacio de trabajo): Recorrer palabra\n",
        "palabra = \"Programación\"\n",
        "for letra in palabra:\n",
        "    print(letra)"
      ]
    },
    {
      "cell_type": "code",
      "execution_count": null,
      "id": "1ebe7680",
      "metadata": {
        "id": "1ebe7680"
      },
      "outputs": [],
      "source": [
        "# ✍️ Ejercicio 6 (espacio de trabajo): Promedio con for\n",
        "notas = [3.5, 4.0, 2.8, 5.0, 4.2]\n",
        "suma = 0\n",
        "cantidad = 0\n",
        "for n in notas:\n",
        "    suma += n\n",
        "    cantidad += 1\n",
        "promedio = suma / cantidad if cantidad else 0\n",
        "print(\"Promedio:\", round(promedio, 2))"
      ]
    },
    {
      "cell_type": "markdown",
      "id": "4edfe468",
      "metadata": {
        "id": "4edfe468"
      },
      "source": [
        "\n",
        "---\n",
        "## 🧭 Control del flujo en bucles\n",
        "### `break` y `continue`\n",
        "- `break` finaliza el bucle.\n",
        "- `continue` salta a la siguiente iteración.\n"
      ]
    },
    {
      "cell_type": "code",
      "execution_count": null,
      "id": "21e10ed6",
      "metadata": {
        "id": "21e10ed6"
      },
      "outputs": [],
      "source": [
        "# Ejemplo 5: break\n",
        "for i in range(1, 11):\n",
        "    if i == 5:\n",
        "        print(\"🔚 Se detiene en el número 5\")\n",
        "        break\n",
        "    print(i)"
      ]
    },
    {
      "cell_type": "code",
      "execution_count": null,
      "id": "9075408e",
      "metadata": {
        "id": "9075408e"
      },
      "outputs": [],
      "source": [
        "# Ejemplo 6: continue (imprime solo impares)\n",
        "for i in range(1, 11):\n",
        "    if i % 2 == 0:\n",
        "        continue\n",
        "    print(i)"
      ]
    },
    {
      "cell_type": "markdown",
      "id": "5a2bfae5",
      "metadata": {
        "id": "5a2bfae5"
      },
      "source": [
        "\n",
        "### `else` en bucles\n",
        "El bloque `else` se ejecuta **solo si el bucle NO fue interrumpido con `break`**.\n"
      ]
    },
    {
      "cell_type": "code",
      "execution_count": null,
      "id": "6031aea5",
      "metadata": {
        "id": "6031aea5"
      },
      "outputs": [],
      "source": [
        "# Ejemplo 7: else en for (búsqueda)\n",
        "numeros = [2, 4, 6, 8, 10]\n",
        "buscar = 5\n",
        "for n in numeros:\n",
        "    if n == buscar:\n",
        "        print(\"Encontrado:\", n)\n",
        "        break\n",
        "else:\n",
        "    print(\"No se encontró\", buscar)"
      ]
    },
    {
      "cell_type": "markdown",
      "id": "974d8079",
      "metadata": {
        "id": "974d8079"
      },
      "source": [
        "\n",
        "### 🧪 Ejercicios de control de flujo\n",
        "7. **Saltar múltiplos de 3**: recorre del 1 al 30, pero **omite** los múltiplos de 3 con `continue`.  \n",
        "8. **Detener en un nombre**: recorre una lista de nombres y **detente** en `\"Ana\"` con `break`.  \n",
        "9. **Buscador con `else`**: busca un número en una lista; si no se encuentra, muestra un mensaje usando `else`.\n"
      ]
    },
    {
      "cell_type": "markdown",
      "id": "91a4a226",
      "metadata": {
        "id": "91a4a226"
      },
      "source": [
        "\n",
        "---\n",
        "## 🧩 Retos finales\n",
        "\n",
        "\n",
        "**Reto 1: Números primos (1–50).**  \n",
        "Imprime todos los números primos entre 1 y 50. Pista: un número `p` es primo si no tiene divisores entre 2 y `p-1`.\n",
        "\n",
        "**Reto 2: Cajero automático (PIN con 3 intentos).**  \n",
        "- Pide un PIN al usuario (por ejemplo `4321`).  \n",
        "- Si el usuario falla 3 veces → **\"Acceso bloqueado\"**.  \n",
        "- Si acierta → **\"Bienvenido\"**.\n",
        "\n",
        "**Reto 3: Triángulo de asteriscos.**  \n",
        "Para `n = 5` debe imprimir:\n",
        "```\n",
        "*\n",
        "**\n",
        "***\n",
        "****\n",
        "*****\n",
        "```\n"
      ]
    },
    {
      "cell_type": "markdown",
      "id": "cf0197ab",
      "metadata": {
        "id": "cf0197ab"
      },
      "source": [
        "\n",
        "---\n",
        "## 🧭 Cierre y reflexión\n",
        "- ¿Cuándo conviene usar `while` y cuándo `for`?\n",
        "- ¿Dónde te resultó útil `break`, `continue` o `else`?\n",
        "- ¿Qué patrón de bucle usarías para validar entradas de usuario?\n"
      ]
    }
  ],
  "metadata": {
    "colab": {
      "provenance": [],
      "include_colab_link": true
    },
    "language_info": {
      "name": "python"
    },
    "kernelspec": {
      "name": "python3",
      "display_name": "Python 3"
    }
  },
  "nbformat": 4,
  "nbformat_minor": 5
}